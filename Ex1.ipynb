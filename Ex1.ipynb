{
 "cells": [
  {
   "cell_type": "markdown",
   "metadata": {},
   "source": [
    "## Strain hardening effects\n",
    "#### 2022 by CMC\n",
    "Based on and Example in Englekirk 1994\n",
    "\n",
    "Calcular el porcentaje de momento adicional (respecto de la capacidad plástica) de una sección rectangular de $b=2.5 cm$ y $h=50 cm$ cuando las deformaciones unitarias en la fibra extrema son $\\epsilon_s = 30\\epsilon_y$. Asumiendo un acero A36 con modulo de elasticidad en endurecimiento $E_{st} = 6500$ MPa e inicio de endurecimiento a  $\\epsilon_{st} = 15\\epsilon_y$."
   ]
  },
  {
   "cell_type": "markdown",
   "metadata": {},
   "source": [
    "### Dependencies"
   ]
  },
  {
   "cell_type": "code",
   "execution_count": 45,
   "metadata": {
    "scrolled": false
   },
   "outputs": [],
   "source": [
    "import numpy as np\n",
    "import handcalcs.render\n",
    "from math import sqrt, pi"
   ]
  },
  {
   "cell_type": "markdown",
   "metadata": {},
   "source": [
    "### Asignacion de variables"
   ]
  },
  {
   "cell_type": "code",
   "execution_count": 41,
   "metadata": {},
   "outputs": [
    {
     "data": {
      "text/latex": [
       "\\[\n",
       "\\begin{aligned}\n",
       "E &= 210000 \\; \\;\\textrm{(MPa)}\n",
       "\\\\[10pt]\n",
       "E_{st} &= 6500 \\; \\;\\textrm{(MPa)}\n",
       "\\\\[10pt]\n",
       "b &= 0.025 \\; \\;\\textrm{(m)}\n",
       "\\\\[10pt]\n",
       "h &= 0.5 \\; \\;\\textrm{(m)}\n",
       "\\\\[10pt]\n",
       "F_{y} &= 250 \\; \\;\\textrm{(MPa)}\n",
       "\\end{aligned}\n",
       "\\]"
      ],
      "text/plain": [
       "<IPython.core.display.Latex object>"
      ]
     },
     "metadata": {},
     "output_type": "display_data"
    }
   ],
   "source": [
    "%%render\n",
    "E=210000 #MPa\n",
    "E_st=6500 #MPa\n",
    "b=0.025 #m\n",
    "h=0.5 #m\n",
    "F_y=250 #MPa"
   ]
  },
  {
   "cell_type": "markdown",
   "metadata": {},
   "source": [
    "### Cálculos"
   ]
  },
  {
   "cell_type": "markdown",
   "metadata": {},
   "source": [
    "Las fibras extremas experimentan endurecimiento y por lo tanto el esfuerzo se incremanta en propoción a ello.\n",
    "\n",
    "$\\dfrac{f-F_y}{30\\epsilon_y - 15 \\epsilon_y} = E_{st}$ \n",
    "\n",
    "$f = 15 \\epsilon_y E_{st} + F_y$\n",
    "\n",
    "$f = \\dfrac{15 E_{st}}{E_s} F_y + F_y$"
   ]
  },
  {
   "cell_type": "code",
   "execution_count": 42,
   "metadata": {},
   "outputs": [
    {
     "data": {
      "text/latex": [
       "\\[\n",
       "\\begin{aligned}\n",
       "M &= 0.5 \\cdot b \\cdot \\left( \\frac{ h }{ 4 } \\right) \\cdot \\left( 15 \\cdot \\frac{ E_{st} }{ E } \\right) \\cdot F_{y} \\cdot \\left( \\frac{ 5 }{ 6 } \\cdot h \\right) + \\left( b \\cdot \\frac{ h }{ 2 } \\right) \\cdot F_{y} \\cdot \\frac{ h }{ 2 } \\\\&= 0.5 \\cdot 0.025 \\cdot \\left( \\frac{ 0.5 }{ 4 } \\right) \\cdot \\left( 15 \\cdot \\frac{ 6500 }{ 210000 } \\right) \\cdot 250 \\cdot \\left( \\frac{ 5 }{ 6 } \\cdot 0.5 \\right) + \\left( 0.025 \\cdot \\frac{ 0.5 }{ 2 } \\right) \\cdot 250 \\cdot \\frac{ 0.5 }{ 2 } \\\\&= 4.662 \\times 10 ^ {-1 } \\; \\;\\textrm{(MN)}\\\\\n",
       "\\end{aligned}\n",
       "\\]"
      ],
      "text/plain": [
       "<IPython.core.display.Latex object>"
      ]
     },
     "metadata": {},
     "output_type": "display_data"
    }
   ],
   "source": [
    "%%render\n",
    "M = 0.5*b*(h/4)*(15*E_st /E) *F_y *(5/6*h) + (b*h/2)*F_y*h/2 #MN"
   ]
  },
  {
   "cell_type": "code",
   "execution_count": 43,
   "metadata": {},
   "outputs": [
    {
     "data": {
      "text/latex": [
       "\\[\n",
       "\\begin{aligned}\n",
       "M_{p} &= b \\cdot \\frac{ \\left( h \\right) ^{ 2 } }{ 4 } \\cdot F_{y}  = 0.025 \\cdot \\frac{ \\left( 0.5 \\right) ^{ 2 } }{ 4 } \\cdot 250 &= 3.906 \\times 10 ^ {-1 } \\; \\;\\textrm{(MN)}\n",
       "\\end{aligned}\n",
       "\\]"
      ],
      "text/plain": [
       "<IPython.core.display.Latex object>"
      ]
     },
     "metadata": {},
     "output_type": "display_data"
    }
   ],
   "source": [
    "%%render\n",
    "M_p = b*h**2/4 *F_y #MN"
   ]
  },
  {
   "cell_type": "code",
   "execution_count": 44,
   "metadata": {},
   "outputs": [
    {
     "data": {
      "text/latex": [
       "\\[\n",
       "\\begin{aligned}\n",
       "\\Omega &= 19.345 \\; \\;\\textrm{(%)}\n",
       "\\end{aligned}\n",
       "\\]"
      ],
      "text/plain": [
       "<IPython.core.display.Latex object>"
      ]
     },
     "metadata": {},
     "output_type": "display_data"
    }
   ],
   "source": [
    "%%render\n",
    "Omega=(M-M_p)/(M_p)*100 #%"
   ]
  },
  {
   "cell_type": "code",
   "execution_count": null,
   "metadata": {},
   "outputs": [],
   "source": []
  }
 ],
 "metadata": {
  "kernelspec": {
   "display_name": "Python 3",
   "language": "python",
   "name": "python3"
  },
  "language_info": {
   "codemirror_mode": {
    "name": "ipython",
    "version": 3
   },
   "file_extension": ".py",
   "mimetype": "text/x-python",
   "name": "python",
   "nbconvert_exporter": "python",
   "pygments_lexer": "ipython3",
   "version": "3.9.1"
  }
 },
 "nbformat": 4,
 "nbformat_minor": 1
}
