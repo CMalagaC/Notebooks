{
 "cells": [
  {
   "cell_type": "markdown",
   "metadata": {},
   "source": [
    "# <center> Structural Dynamics</center>"
   ]
  },
  {
   "cell_type": "markdown",
   "metadata": {},
   "source": [
    "## <center>Free Vibrations of a SDOF</center>"
   ]
  },
  {
   "cell_type": "markdown",
   "metadata": {},
   "source": [
    "Dr C Málaga-Chuquitaype ([email](mailto:c.malaga@imperial.ac.uk)) - [Emerging Structural Technologies Research Group](http://www.imperial.ac.uk/emerging-structural-technologies)"
   ]
  },
  {
   "cell_type": "markdown",
   "metadata": {},
   "source": [
    "***"
   ]
  },
  {
   "cell_type": "markdown",
   "metadata": {},
   "source": [
    "Equation of Movement:"
   ]
  },
  {
   "cell_type": "markdown",
   "metadata": {},
   "source": [
    "$m \\ddot{u}(t) + c \\dot{u}(t) + ku(t) = 0$"
   ]
  },
  {
   "cell_type": "markdown",
   "metadata": {},
   "source": [
    "Or, in mass-normalized terms:"
   ]
  },
  {
   "cell_type": "markdown",
   "metadata": {},
   "source": [
    "$\\ddot{u}(t) + 2 \\xi \\omega_n \\dot{u}(t) + \\omega_n^2 u(t)= 0$"
   ]
  },
  {
   "cell_type": "markdown",
   "metadata": {},
   "source": [
    "whose solution is:"
   ]
  },
  {
   "cell_type": "markdown",
   "metadata": {},
   "source": [
    "$u(t) = \\exp{-\\xi \\omega_nt} \\left( A_1 \\cos{\\omega_dt} + A_2 \\sin{\\omega_dt} \\right)$"
   ]
  },
  {
   "cell_type": "markdown",
   "metadata": {},
   "source": [
    "with:"
   ]
  },
  {
   "cell_type": "markdown",
   "metadata": {},
   "source": [
    "$A_1 = u_0$"
   ]
  },
  {
   "cell_type": "markdown",
   "metadata": {},
   "source": [
    "$A_2 = \\dfrac{v_0 + \\xi \\omega_n u_0}{\\omega_d}$"
   ]
  },
  {
   "cell_type": "markdown",
   "metadata": {},
   "source": [
    "<font color='red'> Please note that the interactive components of this Notebook will slowly or may not run at all if the online tool is used. If you prefer to run it locally, you should install Jupyter by following the instructions in: http://jupyter.org/install</font>"
   ]
  },
  {
   "cell_type": "code",
   "execution_count": 1,
   "metadata": {},
   "outputs": [],
   "source": [
    "# Import the NumPy functions with namespace (nickname) np\n",
    "import numpy as np"
   ]
  },
  {
   "cell_type": "code",
   "execution_count": 2,
   "metadata": {},
   "outputs": [],
   "source": [
    "# Se-up to display plots inline\n",
    "%matplotlib inline"
   ]
  },
  {
   "cell_type": "code",
   "execution_count": 3,
   "metadata": {},
   "outputs": [],
   "source": [
    "# Import the plotting functions\n",
    "import matplotlib.pyplot as plt"
   ]
  },
  {
   "cell_type": "code",
   "execution_count": 4,
   "metadata": {},
   "outputs": [],
   "source": [
    "# Import the IPython widgets\n",
    "from ipywidgets.widgets import interact, interactive, HBox, Label\n",
    "from ipywidgets import widgets\n",
    "from IPython.display import display"
   ]
  },
  {
   "cell_type": "code",
   "execution_count": 5,
   "metadata": {},
   "outputs": [],
   "source": [
    "# Create a time array/vector of 0-25s with 5001 samples\n",
    "t = np.linspace(0,25, 5001)"
   ]
  },
  {
   "cell_type": "code",
   "execution_count": 6,
   "metadata": {},
   "outputs": [],
   "source": [
    "def plot_SDOF(u0=0.04, v0=0.4, xi=0.05):\n",
    "#define the period of the SDOF (these will not change) [in seconds]\n",
    "    T=2.0  # The structural period depends on the mass and stiffness of the SDOF T = 1/2*np.pi*np.sqrt(m/k)\n",
    "#Based on this we get its natural circular frequency    [in rad/s] \n",
    "    w=2*np.pi/T\n",
    "#And the damped circular frequency    [in rad/s] \n",
    "    wd=w*np.sqrt(1-xi**2)\n",
    "    \n",
    "#the response of the system from the initial conditions\n",
    "    A1=u0\n",
    "    A2=(v0+xi*w*u0)/wd\n",
    "\n",
    "    response = np.exp(-xi*w*t)*(A1*np.cos(wd*t) + A2*np.sin(wd*t)) \n",
    "\n",
    "# Set figure parameters\n",
    "    fig, (ax1) = plt.subplots(1,figsize = (12,4))\n",
    "\n",
    "    plt.subplots_adjust(bottom=0.12,left=0.17,top=0.96,right=0.96)\n",
    "    plt.setp(ax1.get_ymajorticklabels(),family='arial',fontsize=14)\n",
    "    plt.setp(ax1.get_xmajorticklabels(),family='arial',fontsize=14)\n",
    "    \n",
    "    ax1.spines['right'].set_color('none')\n",
    "    ax1.spines['top'].set_color('none')\n",
    "    ax1.xaxis.set_ticks_position('bottom')\n",
    "    ax1.yaxis.set_ticks_position('left')\n",
    "    ax1.grid(True,linestyle=':',color='0.75')\n",
    "    ax1.set_axisbelow(True)\n",
    "    \n",
    "    #Response\n",
    "    ax1.set_xlabel('Time [s]', family='arial', fontsize=14,weight='bold',labelpad=5)\n",
    "    ax1.set_ylabel('Response Amplitude [m]', family='arial', fontsize=14,weight='bold',labelpad=10)\n",
    "    \n",
    "    ax1.plot(t, response, linewidth=2,linestyle='-',label='Response')\n",
    "    ax1.set_xlim(0,25)\n",
    "    \n",
    "    #Adjustments\n",
    "    plt.tight_layout(pad=0.5, w_pad=5.0)    "
   ]
  },
  {
   "cell_type": "markdown",
   "metadata": {},
   "source": [
    "Now, let's call the interact function, set-up the ranges for each parameter and define the sliders."
   ]
  },
  {
   "cell_type": "code",
   "execution_count": 7,
   "metadata": {
    "scrolled": false
   },
   "outputs": [
    {
     "data": {
      "application/vnd.jupyter.widget-view+json": {
       "model_id": "1c7261938ebd4e6fac9517e96fffa0cd",
       "version_major": 2,
       "version_minor": 0
      },
      "text/plain": [
       "interactive(children=(FloatSlider(value=0.04, description='u0', max=0.1, min=-0.1, step=0.05), FloatSlider(val…"
      ]
     },
     "metadata": {},
     "output_type": "display_data"
    },
    {
     "data": {
      "text/plain": [
       "<function __main__.plot_SDOF(u0=0.04, v0=0.4, xi=0.05)>"
      ]
     },
     "execution_count": 7,
     "metadata": {},
     "output_type": "execute_result"
    }
   ],
   "source": [
    "#Call the slider interaction, the phi angles are defined as a function of pi/2\n",
    "interact(plot_SDOF, u0 = (-0.1,0.1,0.05),\n",
    "         v0 = (-1,1,0.05),\n",
    "         xi = (0,0.5,0.05))\n",
    "                    "
   ]
  },
  {
   "cell_type": "code",
   "execution_count": null,
   "metadata": {},
   "outputs": [],
   "source": []
  },
  {
   "cell_type": "code",
   "execution_count": null,
   "metadata": {},
   "outputs": [],
   "source": []
  }
 ],
 "metadata": {
  "kernelspec": {
   "display_name": "Python 3 (ipykernel)",
   "language": "python",
   "name": "python3"
  },
  "language_info": {
   "codemirror_mode": {
    "name": "ipython",
    "version": 3
   },
   "file_extension": ".py",
   "mimetype": "text/x-python",
   "name": "python",
   "nbconvert_exporter": "python",
   "pygments_lexer": "ipython3",
   "version": "3.10.6"
  }
 },
 "nbformat": 4,
 "nbformat_minor": 2
}
