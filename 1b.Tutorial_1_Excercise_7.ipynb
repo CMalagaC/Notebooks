{
 "cells": [
  {
   "cell_type": "markdown",
   "metadata": {},
   "source": [
    "## <center> Structural Dynamics</center>"
   ]
  },
  {
   "cell_type": "markdown",
   "metadata": {},
   "source": [
    "# <center> Tutorial 1 - Solution Question 7</center>"
   ]
  },
  {
   "cell_type": "markdown",
   "metadata": {},
   "source": [
    "Dr C Málaga-Chuquitaype ([email](mailto:c.malaga@imperial.ac.uk)) -  [Emerging Structural Technologies Research Group](http://www.imperial.ac.uk/emerging-structural-technologies)"
   ]
  },
  {
   "cell_type": "markdown",
   "metadata": {},
   "source": [
    "***"
   ]
  },
  {
   "cell_type": "markdown",
   "metadata": {},
   "source": [
    "<font color='red'> Please note that the interactive components of this Notebook will slowly or may not run at all if the online tool is used. If you prefer to run it locally, you should install Jupyter by following the instructions in: http://jupyter.org/install</font>"
   ]
  },
  {
   "cell_type": "markdown",
   "metadata": {},
   "source": [
    "Find the FT of $x[n] = a^{|n|}$,   $|a|<1$ , for  $0<a<1$"
   ]
  },
  {
   "cell_type": "markdown",
   "metadata": {},
   "source": [
    "$X(e^{i \\omega})  = \\sum_{- \\infty}^{\\infty} a ^{|n|} e^{-i \\omega n}$"
   ]
  },
  {
   "cell_type": "markdown",
   "metadata": {},
   "source": [
    "$X(e^{i \\omega})  = \\sum_{n=0}^{\\infty} a^n e ^{-i \\omega n} +  \\sum_{n=- \\infty}^{-1} a^{-n }e ^{-i \\omega n} $"
   ]
  },
  {
   "cell_type": "markdown",
   "metadata": {},
   "source": [
    "Substituting variables $m=-n$ we get:"
   ]
  },
  {
   "cell_type": "markdown",
   "metadata": {},
   "source": [
    "$X(e^{i \\omega})  = \\sum_{n=0}^{\\infty} (a e^{-i \\omega })^n + \\sum_{m = 1}^{\\infty}(a e^{i \\omega}m) $"
   ]
  },
  {
   "cell_type": "markdown",
   "metadata": {},
   "source": [
    "where both infinite geometric series can be evaluated in closed form as:"
   ]
  },
  {
   "cell_type": "markdown",
   "metadata": {},
   "source": [
    "$X(e^{i \\omega})  = \\dfrac{1}{1-ae^{-i \\omega}} + \\dfrac{a e^{i \\omega}}{1 - a e^{i \\omega}}$\n"
   ]
  },
  {
   "cell_type": "markdown",
   "metadata": {},
   "source": [
    "$X(e^{i \\omega}) = \\dfrac{1-a^2}{a - 2a \\cos \\omega + a^2}$"
   ]
  },
  {
   "cell_type": "code",
   "execution_count": 1,
   "metadata": {},
   "outputs": [],
   "source": [
    "# Import the NumPy functions with namespace (nickname) np\n",
    "import numpy as np"
   ]
  },
  {
   "cell_type": "code",
   "execution_count": 2,
   "metadata": {},
   "outputs": [],
   "source": [
    "# Se-up to display plots inline\n",
    "%matplotlib inline"
   ]
  },
  {
   "cell_type": "code",
   "execution_count": 3,
   "metadata": {},
   "outputs": [],
   "source": [
    "# Import the plotting functions\n",
    "import matplotlib.pyplot as plt"
   ]
  },
  {
   "cell_type": "code",
   "execution_count": 4,
   "metadata": {},
   "outputs": [],
   "source": [
    "# Import the IPython widgets\n",
    "from ipywidgets.widgets import interact, interactive, HBox, Label\n",
    "from ipywidgets import widgets\n",
    "from IPython.display import display\n",
    "from scipy import signal"
   ]
  },
  {
   "cell_type": "code",
   "execution_count": 5,
   "metadata": {},
   "outputs": [],
   "source": [
    "# Create a time array/vector of 0-25s with 5001 samples\n",
    "w = np.linspace(-25,25,4000)\n"
   ]
  },
  {
   "cell_type": "code",
   "execution_count": 6,
   "metadata": {},
   "outputs": [],
   "source": [
    "def plot_envelope(a=0.5):\n",
    "#define the period of the SDOF (these will not change) [in seconds]\n",
    "    F = (1 -a) / (1 - 2*a*np.cos(w)+a**2)\n",
    "    \n",
    "    plt.plot(w,F) \n",
    "    plt.xlabel('$\\omega$')\n",
    "    plt.ylabel('$X(e^{i\\omega})$')\n",
    "  "
   ]
  },
  {
   "cell_type": "markdown",
   "metadata": {},
   "source": [
    "Now, let's call the interact function, set-up the ranges for each parameter and define the sliders."
   ]
  },
  {
   "cell_type": "code",
   "execution_count": 7,
   "metadata": {
    "scrolled": false
   },
   "outputs": [
    {
     "data": {
      "application/vnd.jupyter.widget-view+json": {
       "model_id": "cc306ffe69814eddb01b0fca17272fa7",
       "version_major": 2,
       "version_minor": 0
      },
      "text/plain": [
       "interactive(children=(FloatSlider(value=0.5, description='a', max=0.9, min=0.05), Output()), _dom_classes=('wi…"
      ]
     },
     "metadata": {},
     "output_type": "display_data"
    },
    {
     "data": {
      "text/plain": [
       "<function __main__.plot_envelope(a=0.5)>"
      ]
     },
     "execution_count": 7,
     "metadata": {},
     "output_type": "execute_result"
    }
   ],
   "source": [
    "#Call the slider interaction, the phi angles are defined as a function of pi/2\n",
    "interact(plot_envelope, a = (0.05,0.9,0.1))\n",
    "                    "
   ]
  },
  {
   "cell_type": "code",
   "execution_count": null,
   "metadata": {},
   "outputs": [],
   "source": []
  },
  {
   "cell_type": "code",
   "execution_count": null,
   "metadata": {},
   "outputs": [],
   "source": []
  },
  {
   "cell_type": "code",
   "execution_count": null,
   "metadata": {},
   "outputs": [],
   "source": []
  }
 ],
 "metadata": {
  "kernelspec": {
   "display_name": "Python 3 (ipykernel)",
   "language": "python",
   "name": "python3"
  },
  "language_info": {
   "codemirror_mode": {
    "name": "ipython",
    "version": 3
   },
   "file_extension": ".py",
   "mimetype": "text/x-python",
   "name": "python",
   "nbconvert_exporter": "python",
   "pygments_lexer": "ipython3",
   "version": "3.10.6"
  }
 },
 "nbformat": 4,
 "nbformat_minor": 2
}
