{
 "cells": [
  {
   "cell_type": "markdown",
   "metadata": {},
   "source": [
    "## <center> Structural Dynamics</center>"
   ]
  },
  {
   "cell_type": "markdown",
   "metadata": {},
   "source": [
    "# <center> Fourier Transform Representation of an Aperiodic Signal</center>"
   ]
  },
  {
   "cell_type": "markdown",
   "metadata": {},
   "source": [
    "Dr C Málaga-Chuquitaype ([email](mailto:c.malaga@imperial.ac.uk)) - [Emerging Structural Technologies Research Group](http://www.imperial.ac.uk/emerging-structural-technologies)"
   ]
  },
  {
   "cell_type": "markdown",
   "metadata": {},
   "source": [
    "***"
   ]
  },
  {
   "cell_type": "markdown",
   "metadata": {},
   "source": [
    "<font color='red'> Please note that the interactive components of this Notebook will slowly or may not run at all if the online tool is used. If you prefer to run it locally, you should install Jupyter by following the instructions in: http://jupyter.org/install</font>"
   ]
  },
  {
   "cell_type": "markdown",
   "metadata": {},
   "source": [
    "Let's take the following function"
   ]
  },
  {
   "cell_type": "markdown",
   "metadata": {},
   "source": [
    "$x(t)= \\left\\{\\begin{array}{l l}\n",
    "1 & |t|< T_1 \\\\\n",
    "0 & T_1 < |t| < T/2 \\\\\n",
    "\\end{array}\n",
    "\\right.$\n",
    "that periodically repeats with a period of $T$."
   ]
  },
  {
   "cell_type": "markdown",
   "metadata": {},
   "source": [
    "The Fourier coefficients $a_k$ for this square wave are:\n"
   ]
  },
  {
   "cell_type": "markdown",
   "metadata": {},
   "source": [
    "$a_k= \\dfrac{2 \\sin{(k \\omega_0 T_1)}}{k \\omega_0 T}$, where $\\omega_0 = 2 \\pi/T$"
   ]
  },
  {
   "cell_type": "markdown",
   "metadata": {},
   "source": [
    "Another way of interpreting this equations is as samples of an evenlope function:"
   ]
  },
  {
   "cell_type": "markdown",
   "metadata": {},
   "source": [
    "$T a_k =  \\left. \\dfrac{2 \\sin{(\\omega T_1)}}{\\omega} \\right|_{\\omega=k \\omega_0}$"
   ]
  },
  {
   "cell_type": "code",
   "execution_count": 1,
   "metadata": {},
   "outputs": [],
   "source": [
    "# Import the NumPy functions with namespace (nickname) np\n",
    "import numpy as np"
   ]
  },
  {
   "cell_type": "code",
   "execution_count": 2,
   "metadata": {},
   "outputs": [],
   "source": [
    "# Se-up to display plots inline\n",
    "%matplotlib inline"
   ]
  },
  {
   "cell_type": "code",
   "execution_count": 3,
   "metadata": {},
   "outputs": [],
   "source": [
    "# Import the plotting functions\n",
    "import matplotlib.pyplot as plt"
   ]
  },
  {
   "cell_type": "code",
   "execution_count": 4,
   "metadata": {},
   "outputs": [],
   "source": [
    "# Import the IPython widgets\n",
    "from ipywidgets.widgets import interact, interactive, HBox, Label\n",
    "from ipywidgets import widgets\n",
    "from IPython.display import display\n",
    "from scipy import signal"
   ]
  },
  {
   "cell_type": "code",
   "execution_count": 5,
   "metadata": {},
   "outputs": [],
   "source": [
    "# Create a time array/vector of 0-25s with 5001 samples\n",
    "t = np.linspace(-50,50,5000)\n",
    "#x = np.zeros(shape=(500,), dtype=float)\n",
    "#print(t)"
   ]
  },
  {
   "cell_type": "code",
   "execution_count": 6,
   "metadata": {},
   "outputs": [],
   "source": [
    "def plot_envelope(T1=1, T=2):\n",
    "#define the period of the SDOF (these will not change) [in seconds]\n",
    "    w = 2*np.pi*t/T\n",
    "    y = 2*np.sin(w*T1)/w\n",
    "    r=T1/T\n",
    "    \n",
    "    b = signal.square(2*np.pi/T*t, duty = r)\n",
    "    b[b<0] = 0\n",
    " \n",
    "    fig, (ax1, ax2) = plt.subplots(2,1,figsize = (8,8))\n",
    "\n",
    "    plt.subplots_adjust(bottom=0.12,left=0.17,top=0.96,right=0.96)\n",
    "    plt.setp(ax1.get_ymajorticklabels(),family='arial',fontsize=14)\n",
    "    plt.setp(ax2.get_xmajorticklabels(),family='arial',fontsize=14)\n",
    "    \n",
    "    ax1.spines['right'].set_color('none')\n",
    "    ax1.spines['top'].set_color('none')\n",
    "    ax1.xaxis.set_ticks_position('bottom')\n",
    "    ax1.yaxis.set_ticks_position('left')\n",
    "    ax1.grid(True,linestyle=':',color='0.75')\n",
    "    ax1.set_axisbelow(True)\n",
    "    \n",
    "    ax2.spines['right'].set_color('none')\n",
    "    ax2.spines['top'].set_color('none')\n",
    "    ax2.xaxis.set_ticks_position('bottom')\n",
    "    ax2.yaxis.set_ticks_position('left')\n",
    "    ax2.grid(True,linestyle=':',color='0.75')\n",
    "    ax2.set_axisbelow(True)\n",
    "    \n",
    "    #Envelope Sample\n",
    "    ax1.set_xlabel('$\\omega$', family='arial', fontsize=14,weight='bold',labelpad=5)\n",
    "    ax1.set_ylabel('$Ta_k$', family='arial', fontsize=14,weight='bold',labelpad=10)\n",
    "    \n",
    "    #Original Function\n",
    "    ax2.set_xlabel('$t$', family='arial', fontsize=14,weight='bold',labelpad=5)\n",
    "    ax2.set_ylabel('$x(t))$', family='arial', fontsize=14,weight='bold',labelpad=10)\n",
    "    \n",
    "    ax1.plot(w,  y, 'bo', linewidth=2,linestyle='-',label='Response1')\n",
    "    ax1.set_xlim(-2.5,2.5)\n",
    "    \n",
    "    ax2.plot(t-T1/2,  b, linewidth=2,linestyle='-',label='Response2')\n",
    "    ax2.set_xlim(-50,50)\n",
    "    \n",
    "    #Adjustments\n",
    "    plt.tight_layout(pad=0.5, w_pad=5.0)    \n"
   ]
  },
  {
   "cell_type": "markdown",
   "metadata": {},
   "source": [
    "Now, let's call the interact function, set-up the ranges for each parameter and define the sliders."
   ]
  },
  {
   "cell_type": "code",
   "execution_count": 7,
   "metadata": {
    "scrolled": false
   },
   "outputs": [
    {
     "data": {
      "application/vnd.jupyter.widget-view+json": {
       "model_id": "00a4fb55340242ed9bd109e08fd8d394",
       "version_major": 2,
       "version_minor": 0
      },
      "text/plain": [
       "interactive(children=(IntSlider(value=4, description='T1', max=8, min=4), IntSlider(value=8, description='T', …"
      ]
     },
     "metadata": {},
     "output_type": "display_data"
    },
    {
     "data": {
      "text/plain": [
       "<function __main__.plot_envelope(T1=1, T=2)>"
      ]
     },
     "execution_count": 7,
     "metadata": {},
     "output_type": "execute_result"
    }
   ],
   "source": [
    "#Call the slider interaction, the phi angles are defined as a function of pi/2\n",
    "interact(plot_envelope, T1 = (4,8,1),\n",
    "        T = (8,64,1))\n",
    "                    "
   ]
  },
  {
   "cell_type": "code",
   "execution_count": null,
   "metadata": {},
   "outputs": [],
   "source": []
  },
  {
   "cell_type": "code",
   "execution_count": null,
   "metadata": {},
   "outputs": [],
   "source": []
  },
  {
   "cell_type": "code",
   "execution_count": null,
   "metadata": {},
   "outputs": [],
   "source": []
  }
 ],
 "metadata": {
  "kernelspec": {
   "display_name": "Python 3 (ipykernel)",
   "language": "python",
   "name": "python3"
  },
  "language_info": {
   "codemirror_mode": {
    "name": "ipython",
    "version": 3
   },
   "file_extension": ".py",
   "mimetype": "text/x-python",
   "name": "python",
   "nbconvert_exporter": "python",
   "pygments_lexer": "ipython3",
   "version": "3.10.6"
  }
 },
 "nbformat": 4,
 "nbformat_minor": 2
}
