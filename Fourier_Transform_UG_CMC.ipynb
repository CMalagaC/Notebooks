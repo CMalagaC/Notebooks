{
 "cells": [
  {
   "cell_type": "markdown",
   "metadata": {},
   "source": [
    "# <center>Structural Dynamics</center>"
   ]
  },
  {
   "cell_type": "markdown",
   "metadata": {},
   "source": [
    "## <center>Fourier Transform</center>"
   ]
  },
  {
   "cell_type": "markdown",
   "metadata": {},
   "source": [
    "<center>**Dr C Málaga-Chuquitaype ([email](mailto:c.malaga@imperial.ac.uk))**</center>"
   ]
  },
  {
   "cell_type": "markdown",
   "metadata": {},
   "source": [
    "<center>**Emerging Structural Technologies Research Group ([webpage](http://www.imperial.ac.uk/emerging-structural-technologies))**</center>"
   ]
  },
  {
   "cell_type": "markdown",
   "metadata": {},
   "source": [
    "***"
   ]
  },
  {
   "cell_type": "code",
   "execution_count": null,
   "metadata": {},
   "outputs": [],
   "source": []
  },
  {
   "cell_type": "markdown",
   "metadata": {
    "collapsed": true
   },
   "source": [
    "Let's consider a signal composed of three sine waves:"
   ]
  },
  {
   "cell_type": "markdown",
   "metadata": {
    "collapsed": true
   },
   "source": [
    "$f(t) = A_1 \\sin(\\omega_1t) + A_2 \\sin(\\omega_2 t) + A_3 \\sin(\\omega_3 t)$"
   ]
  },
  {
   "cell_type": "markdown",
   "metadata": {},
   "source": [
    "We will now create an interactive notebook that will allow us to vary the amplitudes (A1,A2,A3\n",
    ") and frequencies (ω1,ω2,ω3\n",
    ")\n"
   ]
  },
  {
   "cell_type": "markdown",
   "metadata": {},
   "source": [
    "<font color='red'> PLEASE NOTE  that the interactive portions of this notebook will run slowly or may not run in the online notebook viewer. You may need to run it locally. If you wish to install notebook in your own computer you can find detailed instructions here: http://jupyter.org/install</font>"
   ]
  },
  {
   "cell_type": "code",
   "execution_count": 5,
   "metadata": {},
   "outputs": [],
   "source": [
    "# Import the NumPy functions with namespace (nickname) np\n",
    "import numpy as np"
   ]
  },
  {
   "cell_type": "code",
   "execution_count": null,
   "metadata": {},
   "outputs": [],
   "source": []
  },
  {
   "cell_type": "code",
   "execution_count": 10,
   "metadata": {},
   "outputs": [],
   "source": [
    "# Se-up to display plots inline\n",
    "%matplotlib inline"
   ]
  },
  {
   "cell_type": "code",
   "execution_count": 11,
   "metadata": {},
   "outputs": [],
   "source": [
    "# Import the plotting functions\n",
    "import matplotlib.pyplot as plt"
   ]
  },
  {
   "cell_type": "code",
   "execution_count": 12,
   "metadata": {},
   "outputs": [],
   "source": [
    "# Import the IPython widgets\n",
    "from ipywidgets.widgets import interact\n",
    "from ipywidgets import widgets\n",
    "from IPython.display import display"
   ]
  },
  {
   "cell_type": "code",
   "execution_count": 13,
   "metadata": {},
   "outputs": [],
   "source": [
    "# Create a time array/vector of 0-25s with 5001 samples\n",
    "t = np.linspace(0,25, 5001)"
   ]
  },
  {
   "cell_type": "code",
   "execution_count": 14,
   "metadata": {},
   "outputs": [],
   "source": [
    "def plot_FFT(A1=1.0, f1=1.0, A2=0.5, f2=2.75, A3=1.5, f3=7.5):\n",
    "#from frequencies to circular frequencies\n",
    "    w1=f1*(2*np.pi)\n",
    "    w2=f2*(2*np.pi)\n",
    "    w3=f3*(2*np.pi)\n",
    "\n",
    "    orig_signal = A1*np.sin(w1*t) + A2*np.sin(w2*t) + A3*np.sin(w3*t) \n",
    "\n",
    "#we use the FFT algorithm\n",
    "\n",
    "    freq,amp = mod_FFT(orig_signal,t,False)\n",
    "\n",
    "# Set figure parameters\n",
    "    fig, (ax1,ax2) = plt.subplots(1,2, figsize = (12,4))\n",
    "\n",
    "    plt.subplots_adjust(bottom=0.12,left=0.17,top=0.96,right=0.96)\n",
    "    plt.setp(ax1.get_ymajorticklabels(),family='arial',fontsize=14)\n",
    "    plt.setp(ax1.get_xmajorticklabels(),family='arial',fontsize=14)\n",
    "    \n",
    "    ax1.spines['right'].set_color('none')\n",
    "    ax1.spines['top'].set_color('none')\n",
    "    ax1.xaxis.set_ticks_position('bottom')\n",
    "    ax1.yaxis.set_ticks_position('left')\n",
    "    ax1.grid(True,linestyle=':',color='0.75')\n",
    "    ax1.set_axisbelow(True)\n",
    "    \n",
    "    ax2.spines['right'].set_color('none')\n",
    "    ax2.spines['top'].set_color('none')\n",
    "    ax2.xaxis.set_ticks_position('bottom')\n",
    "    ax2.yaxis.set_ticks_position('left')\n",
    "    ax2.grid(True,linestyle=':',color='0.75')\n",
    "    ax2.set_axisbelow(True)\n",
    "\n",
    "    #Original signal\n",
    "    ax1.set_xlabel('Time [s]', family='arial', fontsize=14,weight='bold',labelpad=5)\n",
    "    ax1.set_ylabel('Signal Amplitude', family='arial', fontsize=14,weight='bold',labelpad=10)\n",
    "    \n",
    "    ax1.plot(t, orig_signal, linewidth=2,linestyle='-',label='Original Signal')\n",
    "    ax1.set_xlim(0,5)\n",
    "    \n",
    "    #FFT\n",
    "    ax2.set_xlabel('Frequency [Hz]', fontsize=14,weight='bold',labelpad=5)\n",
    "    ax2.set_ylabel('Amplitude', fontsize=14,weight='bold',labelpad=5)\n",
    "    \n",
    "    ax2.plot(freq, amp, linewidth=2, linestyle='-', label = 'FFT')\n",
    "    \n",
    "    #Adjustments\n",
    "    plt.tight_layout(pad=0.5, w_pad=5.0)    "
   ]
  },
  {
   "cell_type": "markdown",
   "metadata": {},
   "source": [
    "The function below implements the FFT algorithm. Although not strictly necesary, it also implements additional steps such as zero-centering, selecting the Real part, etc"
   ]
  },
  {
   "cell_type": "code",
   "execution_count": 15,
   "metadata": {},
   "outputs": [],
   "source": [
    "def mod_FFT(data,time,plotflag):\n",
    "    #Inputs:\n",
    "    #time = time array corresponding to the data\n",
    "    #data = the response data arrray\n",
    "    #pltoflag = plots if nonzero\n",
    "    #Outputs:\n",
    "    #fft_freq = array of the frequencies used in the FFT\n",
    "    #fft_amp = array of the amplitude of the FFT at each frequency\n",
    "    \n",
    "    from scipy.fftpack import fft\n",
    "    \n",
    "    #any DC offset\n",
    "    offset = np.mean(data)\n",
    "    \n",
    "    #get sampling time\n",
    "    sample_time = time[1]-time[0]\n",
    "    \n",
    "    #get length\n",
    "    n = len(data)\n",
    "    \n",
    "    #calculate the FFT removing the offset and using a Hanning Window\n",
    "    fft_amp = fft((data-offset)*np.hanning(len(data)))\n",
    "    \n",
    "    #define the frequency range of the output\n",
    "    fft_freq = np.linspace(0.0, 1.0 / (2.0*sample_time), int(np.ceil(n/2)))\n",
    "    \n",
    "    #get the fft part of interest\n",
    "    fft_amp = 2.0/n*np.abs(fft_amp[0:int(np.ceil(n/2))])\n",
    "    \n",
    "    #if plotflag is nonzero (True), plot the FFT before returning the mad and phase\n",
    "    if plotflag:\n",
    "        fig=plt.figure(figsize=(6,4))\n",
    "        ax=plt.gca()\n",
    "        plt.subplots_adjust(bottom=0.17,left=0.17,top=0.96,right=0.96)\n",
    "        plt.setp(ax.get_ymajorticklabels(), fontsize=14)\n",
    "        plt.setp(ax.get_xmajorticklabels(), fontsize=14)\n",
    "        ax.spines['right'].set_color('none')\n",
    "        ax.spines['top'].set_color('none')\n",
    "        ax.xaxis.set_ticks_position('bottom')\n",
    "        ax.yaxis.set_ticks_position('left')\n",
    "        ax.grid(True, linestyle=':', color='0.75')\n",
    "        ax.set_axisbelow(True)\n",
    "        \n",
    "        plt.xlabel('Frequency [Hz]', fontsize=14,labelpad=8)\n",
    "        plt.ylabel('Amplitude', fontsize=14,labelpad=10)\n",
    "        \n",
    "        plt.plot(fft_freq,fft_amp,linewidth=2,linestyle='-')\n",
    "        \n",
    "        #Adjustements\n",
    "        plt.tight_layout(pad=0.5)\n",
    "        plt.show()\n",
    "        \n",
    "    return fft_freq, fft_amp  "
   ]
  },
  {
   "cell_type": "markdown",
   "metadata": {},
   "source": [
    "Now, let's call the interact function, set-up the ranges for each parameter and define the sliders."
   ]
  },
  {
   "cell_type": "code",
   "execution_count": 16,
   "metadata": {},
   "outputs": [
    {
     "data": {
      "application/vnd.jupyter.widget-view+json": {
       "model_id": "f78a537d386b48a688a752ea80150e0e",
       "version_major": 2,
       "version_minor": 0
      },
      "text/plain": [
       "interactive(children=(FloatSlider(value=1.0, description='A1', max=1.5), FloatSlider(value=1.0, description='f…"
      ]
     },
     "metadata": {},
     "output_type": "display_data"
    },
    {
     "data": {
      "text/plain": [
       "<function __main__.plot_FFT(A1=1.0, f1=1.0, A2=0.5, f2=2.75, A3=1.5, f3=7.5)>"
      ]
     },
     "execution_count": 16,
     "metadata": {},
     "output_type": "execute_result"
    }
   ],
   "source": [
    "#Call the slider interaction\n",
    "interact(plot_FFT, A1 = (0,1.5,0.1),\n",
    "         f1 = (0,100,2.5),\n",
    "         A2 = (0,1.5,0.1),\n",
    "         f2 = (0,100,2.5),\n",
    "         A3 = (0,1.5,0.1),\n",
    "         f3 = (0,100,2.5))"
   ]
  },
  {
   "cell_type": "code",
   "execution_count": null,
   "metadata": {
    "collapsed": true
   },
   "outputs": [],
   "source": []
  },
  {
   "cell_type": "code",
   "execution_count": null,
   "metadata": {
    "collapsed": true
   },
   "outputs": [],
   "source": []
  }
 ],
 "metadata": {
  "kernelspec": {
   "display_name": "Python 3",
   "language": "python",
   "name": "python3"
  },
  "language_info": {
   "codemirror_mode": {
    "name": "ipython",
    "version": 3
   },
   "file_extension": ".py",
   "mimetype": "text/x-python",
   "name": "python",
   "nbconvert_exporter": "python",
   "pygments_lexer": "ipython3",
   "version": "3.9.1"
  }
 },
 "nbformat": 4,
 "nbformat_minor": 2
}
