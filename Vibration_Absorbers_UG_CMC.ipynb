{
 "cells": [
  {
   "cell_type": "markdown",
   "metadata": {},
   "source": [
    "# <center>CIVE96008: Dynamics of Structures</center>"
   ]
  },
  {
   "cell_type": "markdown",
   "metadata": {},
   "source": [
    "## <center>Vibration-control</center>"
   ]
  },
  {
   "cell_type": "markdown",
   "metadata": {},
   "source": [
    "Dr C Málaga-Chuquitaype [email](mailto://c.malaga@imperial.ac.uk)"
   ]
  },
  {
   "cell_type": "markdown",
   "metadata": {},
   "source": [
    "[Emerging Structural Technologies Research Group][]\n",
    "\n",
    "[Emerging Structural Technologies Research Group]: http://www.imperial.ac.uk/emerging-structural-technologies"
   ]
  },
  {
   "cell_type": "markdown",
   "metadata": {},
   "source": [
    "***"
   ]
  },
  {
   "cell_type": "code",
   "execution_count": 17,
   "metadata": {},
   "outputs": [],
   "source": [
    "# Import the NumPy functions with namespace (nickname) np\n",
    "import numpy as np"
   ]
  },
  {
   "cell_type": "code",
   "execution_count": 10,
   "metadata": {},
   "outputs": [],
   "source": [
    "# Import the plotting functions\n",
    "import matplotlib.pyplot as plt"
   ]
  },
  {
   "cell_type": "code",
   "execution_count": 11,
   "metadata": {},
   "outputs": [],
   "source": [
    "# Se-up to display plots inline\n",
    "%matplotlib inline"
   ]
  },
  {
   "cell_type": "code",
   "execution_count": 12,
   "metadata": {},
   "outputs": [],
   "source": [
    "# Create a time array/vector of 0-25s with 5001 samples\n",
    "b = np.linspace(0.000,2.5, 5000)"
   ]
  },
  {
   "cell_type": "markdown",
   "metadata": {},
   "source": [
    "***"
   ]
  },
  {
   "cell_type": "markdown",
   "metadata": {},
   "source": [
    "## Design controlled by forces"
   ]
  },
  {
   "cell_type": "markdown",
   "metadata": {},
   "source": [
    "The reaction force s is"
   ]
  },
  {
   "cell_type": "markdown",
   "metadata": {},
   "source": [
    "$s=ku(t)+c\\dot{u}(t) = F(t)-m\\ddot{u}(t)$"
   ]
  },
  {
   "cell_type": "markdown",
   "metadata": {},
   "source": [
    "$s = S_0\\sin{(\\omega t - \\phi + \\phi_1)}$"
   ]
  },
  {
   "cell_type": "markdown",
   "metadata": {},
   "source": [
    "$H_s = \\sqrt{\\dfrac{1 + (2 \\xi \\beta)^2}{(1-\\beta)^2 + (2\\xi\\beta)^2}}$"
   ]
  },
  {
   "cell_type": "code",
   "execution_count": 13,
   "metadata": {},
   "outputs": [
    {
     "data": {
      "image/png": "[encoded data removed]",
      "text/plain": [
       "<Figure size 432x288 with 1 Axes>"
      ]
     },
     "metadata": {
      "needs_background": "light"
     },
     "output_type": "display_data"
    }
   ],
   "source": [
    "xi1=0.50\n",
    "xi2=0.10\n",
    "xi3=0.05\n",
    "xi4=0\n",
    "Hs1=np.sqrt((1+(2*xi1*b**2))/((1-b**2)**2+(2*xi1*b)**2))\n",
    "Hs2=np.sqrt((1+(2*xi2*b**2))/((1-b**2)**2+(2*xi2*b)**2))\n",
    "Hs3=np.sqrt((1+(2*xi3*b**2))/((1-b**2)**2+(2*xi3*b)**2))\n",
    "Hs4=np.sqrt((1+(2*xi4*b**2))/((1-b**2)**2+(2*xi4*b)**2))\n",
    "line1, = plt.plot(b, Hs1, label=r'$\\xi=0.5$')\n",
    "line2, = plt.plot(b, Hs2, label=r'$\\xi=0.15$')\n",
    "line3, = plt.plot(b, Hs3, label=r'$\\xi=0.05$')\n",
    "line4, = plt.plot(b, Hs4, label=r'$\\xi=0.0$')\n",
    "plt.ylim(0, 10.5)\n",
    "plt.xlim(0, 2.5)\n",
    "plt.legend(handles=[line1, line2, line3, line4], loc='best')\n",
    "plt.xlabel('Frequency ratio, '  r'$\\beta$', fontsize=14,labelpad=8)\n",
    "plt.ylabel(r'$H_s$', fontsize=14,labelpad=10)\n",
    "plt.grid()\n",
    "plt.show()"
   ]
  },
  {
   "cell_type": "markdown",
   "metadata": {},
   "source": [
    "# TMD - Vibration absorbers"
   ]
  },
  {
   "cell_type": "markdown",
   "metadata": {},
   "source": [
    "# 1) Undamped dynamic vibration absorver"
   ]
  },
  {
   "cell_type": "markdown",
   "metadata": {},
   "source": [
    "When an additional mass $m_2$ to a structure of mass $m_1$ by means of a spring of stiffnes $k_2$, the equations of motion of the 2-DOF system are:"
   ]
  },
  {
   "cell_type": "markdown",
   "metadata": {},
   "source": [
    "$m_1\\ddot{u}_1 + k_1 u_1 + k_2 (u_1 - u_2) = F_0 \\sin{\\omega t}$"
   ]
  },
  {
   "cell_type": "markdown",
   "metadata": {},
   "source": [
    "$m_2 \\ddot{u}_2 + k_2 (u_2 - u_1) = 0$"
   ]
  },
  {
   "cell_type": "markdown",
   "metadata": {},
   "source": [
    "If a harmonic motion is assumed:"
   ]
  },
  {
   "cell_type": "markdown",
   "metadata": {},
   "source": [
    "$u(t) = U \\sin{\\omega t}$"
   ]
  },
  {
   "cell_type": "markdown",
   "metadata": {},
   "source": [
    "The steady-state displacement amplitudes of the masses $m_1$ and $m_2$ are:"
   ]
  },
  {
   "cell_type": "markdown",
   "metadata": {},
   "source": [
    "$U_1 = \\dfrac{(k_2 - m_2 \\omega^2)F_0}{(k_1 - k_2 - m_1 \\omega^2)(k_2-m_2\\omega^2)-k_2^2}$"
   ]
  },
  {
   "cell_type": "markdown",
   "metadata": {},
   "source": [
    "$U_1 = \\dfrac{k_2F_0}{(k_1 - k_2 - m_1 \\omega^2)(k_2-m_2\\omega^2)-k_2^2}$"
   ]
  },
  {
   "cell_type": "markdown",
   "metadata": {},
   "source": [
    "In order to make $U_1$ zero then:"
   ]
  },
  {
   "cell_type": "markdown",
   "metadata": {},
   "source": [
    "$\\omega^2 = \\dfrac{k_2}{m_2}$"
   ]
  },
  {
   "cell_type": "markdown",
   "metadata": {},
   "source": [
    "By recalling our previous definitions of static displacement and natural circular frequency:"
   ]
  },
  {
   "cell_type": "markdown",
   "metadata": {},
   "source": [
    "$u_{st} = \\dfrac{F_0}{k_1}$, $\\omega_1 = \\sqrt{\\dfrac{k_1}{m_1}}$"
   ]
  },
  {
   "cell_type": "markdown",
   "metadata": {},
   "source": [
    "Likewise, the natural frequency of the tuned mass damper is:\n"
   ]
  },
  {
   "cell_type": "markdown",
   "metadata": {},
   "source": [
    "$\\omega_2 = \\sqrt{\\dfrac{k_2}{m_2}}$"
   ]
  },
  {
   "cell_type": "markdown",
   "metadata": {},
   "source": [
    "The pevious equations can be re-written as:"
   ]
  },
  {
   "cell_type": "markdown",
   "metadata": {},
   "source": [
    "$\\dfrac{U_1}{u_{st}} = \\dfrac{1-\\left( \\dfrac{\\omega}{\\omega_2}\\right)^2}{\\left( 1 + \\dfrac{k_2}{k_1} - \\left( \\dfrac{\\omega}{\\omega_1}\\right)^2\\right)\\left( 1 - \\left( \\dfrac{\\omega}{\\omega_2}\\right)^2\\right) - \\dfrac{k_2}{k_1}}$"
   ]
  },
  {
   "cell_type": "markdown",
   "metadata": {},
   "source": [
    "$\\dfrac{U_2}{u_{st}} = \\dfrac{1}{\\left( 1 + \\dfrac{k_2}{k_1} - \\left( \\dfrac{\\omega}{\\omega_1}\\right)^2\\right)\\left( 1 - \\left( \\dfrac{\\omega}{\\omega_2}\\right)^2\\right) - \\dfrac{k_2}{k_1}}$"
   ]
  },
  {
   "cell_type": "code",
   "execution_count": 14,
   "metadata": {},
   "outputs": [
    {
     "data": {
      "image/png": "[encoded data removed]",
      "text/plain": [
       "<Figure size 432x288 with 1 Axes>"
      ]
     },
     "metadata": {
      "needs_background": "light"
     },
     "output_type": "display_data"
    }
   ],
   "source": [
    "# Create a time array/vector of 0-25s with 5001 samples\n",
    "b = np.linspace(0.000,2.5, 5000)\n",
    "\n",
    "xi=0.00 # No damping\n",
    "H1=np.sqrt(1/((1-b**2)**2+(2*xi*b)**2))\n",
    "\n",
    "#For a mass ratio of (m2/m1)...\n",
    "mr=1/20\n",
    "#... the stiffness ratio is:\n",
    "kr = (1)**2*mr\n",
    "# for w_1 = w_2\n",
    "H2=abs((1-b**2)/((1+kr-b**2)*(1-b**2)-kr))\n",
    "line1, = plt.plot(b, H1, label=r'$\\xi=0.05$')\n",
    "line2, = plt.plot(b, H2, label=r'$\\xi=0.15$')\n",
    "plt.ylim(0, 16)\n",
    "plt.xlim(0.5, 1.5)\n",
    "#plt.legend(handles=[line1, line2, line3, line4], loc='best')\n",
    "plt.xlabel('Frequency ratio, '  r'$\\beta = \\omega/\\omega_1$', fontsize=14,labelpad=8)\n",
    "plt.ylabel(r'$U_{1}/u_{st}$', fontsize=14,labelpad=10)\n",
    "plt.grid()\n",
    "plt.show()"
   ]
  },
  {
   "cell_type": "markdown",
   "metadata": {},
   "source": [
    "# 2) Damped dynamic vibration absorver"
   ]
  },
  {
   "cell_type": "markdown",
   "metadata": {},
   "source": [
    "If the additional mass $m_2$ is attached to the by means through both a spring of stiffnes $k_2$ and a damper of damping $c_2$, the new equations of motion of the 2-DOF system are:"
   ]
  },
  {
   "cell_type": "markdown",
   "metadata": {},
   "source": [
    "$m_1\\ddot{u}_1 + k_1 u_1 + k_2 (u_1 - u_2) + c_2 (\\dot{u}_1 - \\dot{u_2}) = F_0 \\sin{\\omega t}$"
   ]
  },
  {
   "cell_type": "markdown",
   "metadata": {},
   "source": [
    "$m_2 \\ddot{u}_2 + k_2 (u_2 - u_1) + c_2 (\\dot{u}_2 - \\dot{u_1}) = 0$"
   ]
  },
  {
   "cell_type": "markdown",
   "metadata": {},
   "source": [
    "In this case we will be using a complex exponential anzats:"
   ]
  },
  {
   "cell_type": "markdown",
   "metadata": {},
   "source": [
    "$u(t) = U e^{i \\omega t}$"
   ]
  },
  {
   "cell_type": "markdown",
   "metadata": {},
   "source": [
    "And the steady-state displacement solution for masses $m_1$ and $m_2$ are:"
   ]
  },
  {
   "cell_type": "markdown",
   "metadata": {},
   "source": [
    "$U_1 = \\dfrac{(k_2 - m_2 \\omega^2 + i c_2 \\omega)F_0}{\\left((k_1- m_1\\omega^2)(k_2-m_2 \\omega^2) - m_2 k_2 \\omega^2\\right) + i \\omega c_2 (k_1 - m_1\\omega^2 - m_2 \\omega^2)}$"
   ]
  },
  {
   "cell_type": "markdown",
   "metadata": {},
   "source": [
    "$U_1 = \\dfrac{U_1 (k_2 + i \\omega c_2)}{(k_2-m_2\\omega^2+i \\omega c_2)}$"
   ]
  },
  {
   "cell_type": "markdown",
   "metadata": {},
   "source": [
    "We can define  the following relationships:"
   ]
  },
  {
   "cell_type": "markdown",
   "metadata": {},
   "source": [
    "Mass ratio, $\\mu = \\dfrac{m_2}{m_1}$"
   ]
  },
  {
   "cell_type": "markdown",
   "metadata": {},
   "source": [
    "Static displacement of the structure, $u_{st} = \\dfrac{F_0}{k_1}$"
   ]
  },
  {
   "cell_type": "markdown",
   "metadata": {},
   "source": [
    "Circular frequency of the vibration absorver, $\\omega_d = \\sqrt{\\dfrac{k_2}{m_2}}$"
   ]
  },
  {
   "cell_type": "markdown",
   "metadata": {},
   "source": [
    "Natural circular frequency of the main strucutre, $\\omega_n = \\sqrt{\\dfrac{k_1}{m_1}}$"
   ]
  },
  {
   "cell_type": "markdown",
   "metadata": {},
   "source": [
    "Frequency ratio, $\\rho=\\dfrac{\\omega_d}{\\omega_n}$"
   ]
  },
  {
   "cell_type": "markdown",
   "metadata": {},
   "source": [
    "Force frequency ratio, $\\beta = \\dfrac{\\omega}{\\omega_n}$ "
   ]
  },
  {
   "cell_type": "markdown",
   "metadata": {},
   "source": [
    "Critical damping coefficient, $c_c = 2m_2 \\omega_n$"
   ]
  },
  {
   "cell_type": "markdown",
   "metadata": {},
   "source": [
    "Damping ratio, $\\xi = \\dfrac{c_2}{c_c}$"
   ]
  },
  {
   "cell_type": "markdown",
   "metadata": {},
   "source": [
    "And the normalized magnitudes of $U_1$ and $U_2$ are:"
   ]
  },
  {
   "cell_type": "markdown",
   "metadata": {},
   "source": [
    "$\\dfrac{U_1}{u_{st}} = \\sqrt{\\dfrac{(2 \\xi \\beta)^2 + (\\beta^2 - \\rho^2)^2}{(2 \\xi \\beta)^2 (\\beta^2 - 1 + \\mu \\beta^2)^2 + \\left( \\mu \\rho^2 \\beta^2 - (\\beta^2-1)(\\beta^2 - \\rho^2)\\right)^2}}$"
   ]
  },
  {
   "cell_type": "markdown",
   "metadata": {},
   "source": [
    "$\\dfrac{U_2}{u_{st}} = \\sqrt{\\dfrac{(2 \\xi \\beta)^2 + \\rho^4}{(2 \\xi \\beta)^2 (\\beta^2 - 1 + \\mu \\beta^2)^2 + \\left( \\mu \\rho^2 \\beta^2 - (\\beta^2-1)(\\beta^2 - \\rho^2)\\right)^2}}$"
   ]
  },
  {
   "cell_type": "code",
   "execution_count": 15,
   "metadata": {},
   "outputs": [
    {
     "data": {
      "image/png": "[encoded data removed]",
      "text/plain": [
       "<Figure size 432x288 with 1 Axes>"
      ]
     },
     "metadata": {
      "needs_background": "light"
     },
     "output_type": "display_data"
    }
   ],
   "source": [
    "# Create a time array/vector of 0-25s with 5001 samples\n",
    "b = np.linspace(0.000,2.5, 5000)\n",
    "\n",
    "xi1=10000000 # Large damping (inf)\n",
    "xi2=0.05 # No damping\n",
    "xi3=0.10 # No damping\n",
    "#For a mass ratio of (m2/m1) mu:\n",
    "mr= 0.1\n",
    "#Frequency ratio, rho of:\n",
    "r = 1 # for w_d = w_n\n",
    "\n",
    "H1a=(2*xi1*b)**2+(b**2 -r**2)**2\n",
    "H1b=((2*xi1*b)**2)*(b**2-1+mr*b**2)**2\n",
    "H1c=(mr*r**2*b**2-(b**2-1)*(b**2-r**2))**2\n",
    "H1=abs(np.sqrt(H1a/(H1b+H1c)))\n",
    "\n",
    "H2a=(2*xi2*b)**2+(b**2 -r**2)**2\n",
    "H2b=((2*xi2*b)**2)*(b**2-1+mr*b**2)**2\n",
    "H2c=(mr*r**2*b**2-(b**2-1)*(b**2-r**2))**2\n",
    "#H2=abs((1-b**2)/((1+kr-b**2)*(1-b**2)-kr))\n",
    "H2=abs(np.sqrt(H2a/(H2b+H2c)))\n",
    "\n",
    "H3a=(2*xi3*b)**2+(b**2 -r**2)**2\n",
    "H3b=((2*xi3*b)**2)*(b**2-1+mr*b**2)**2\n",
    "H3c=(mr*r**2*b**2-(b**2-1)*(b**2-r**2))**2\n",
    "#H2=abs((1-b**2)/((1+kr-b**2)*(1-b**2)-kr))\n",
    "H3=abs(np.sqrt(H3a/(H3b+H3c)))\n",
    "\n",
    "#H3=np.sqrt(((2*cr*b)**2+(b**2-rho**2)**2)/((2*cr*b)**2*(b**2-1+mu*b**2)**2+(mu*rho**2*b**2-(b**2-1)*(b**2-rho**2))**2))\n",
    "line1, = plt.plot(b, H1, label=r'$\\xi=\\infty$')\n",
    "line2, = plt.plot(b, H2, label=r'$\\xi=0.05$', color='orange')\n",
    "line3, = plt.plot(b, H3, label=r'$\\xi=0.10$',color = 'green')\n",
    "plt.ylim(0, 16)\n",
    "plt.xlim(0.5, 1.5)\n",
    "plt.legend(handles=[line1, line2, line3], loc='best')\n",
    "plt.xlabel('Frequency ratio, '  r'$\\beta = \\omega/\\omega_1$', fontsize=14,labelpad=8)\n",
    "plt.ylabel(r'$U_{1}/u_{st}$', fontsize=14,labelpad=10)\n",
    "plt.grid()\n",
    "plt.show()"
   ]
  },
  {
   "cell_type": "markdown",
   "metadata": {},
   "source": [
    "Minimum relative displacement under external harmonic load:  "
   ]
  },
  {
   "cell_type": "markdown",
   "metadata": {},
   "source": [
    "$\\rho\\biggl|_{opt} = \\dfrac{1}{1+\\mu}$,     $\\dfrac{c}{c_d}\\biggl|_{opt} = \\sqrt{\\dfrac{3\\mu}{8(1+\\mu)^3}}$"
   ]
  },
  {
   "cell_type": "markdown",
   "metadata": {},
   "source": [
    "Minimum relative acceleration under external harmonic load:"
   ]
  },
  {
   "cell_type": "markdown",
   "metadata": {},
   "source": [
    "$\\rho\\biggl|_{opt} = \\dfrac{1}{\\sqrt{1+\\mu}}$,     $\\dfrac{c}{c_d}\\biggl|_{opt} = \\sqrt{\\dfrac{3\\mu}{8(1+\\mu/2)}}$"
   ]
  },
  {
   "cell_type": "markdown",
   "metadata": {},
   "source": [
    "Minimum relative displacement under harmonic base motion:  "
   ]
  },
  {
   "cell_type": "markdown",
   "metadata": {},
   "source": [
    "$\\rho\\biggl|_{opt} = \\dfrac{\\sqrt{1-\\mu/2}}{1+\\mu}$,     $\\dfrac{c}{c_d}\\biggl|_{opt} = \\sqrt{\\dfrac{3\\mu}{8(1+\\mu)(1-\\mu/2)}}$"
   ]
  },
  {
   "cell_type": "markdown",
   "metadata": {},
   "source": [
    "Minimum absolute acceleration under harmonic base motion:"
   ]
  },
  {
   "cell_type": "markdown",
   "metadata": {},
   "source": [
    "$\\rho\\biggl|_{opt} = \\dfrac{1}{1+\\mu}$,     $\\dfrac{c}{c_d}\\biggl|_{opt} = \\sqrt{\\dfrac{3\\mu}{8(1+\\mu)}}$"
   ]
  },
  {
   "cell_type": "markdown",
   "metadata": {},
   "source": [
    "# Expressions for LTMD (Sloshing dampers)"
   ]
  },
  {
   "cell_type": "markdown",
   "metadata": {},
   "source": [
    "$m_{w} = \\rho_w L b h$"
   ]
  },
  {
   "cell_type": "markdown",
   "metadata": {},
   "source": [
    "$m_{eff} = \\dfrac{8L}{\\pi^3h}\\tanh{\\left(\\dfrac{\\pi h}{L}\\right)}m_w$"
   ]
  },
  {
   "cell_type": "markdown",
   "metadata": {},
   "source": [
    "$k_{eff} = \\dfrac{8 \\rho_w bLg}{\\pi^2}\\tanh^2{\\left(\\dfrac{\\pi h}{L}\\right)} $"
   ]
  },
  {
   "cell_type": "markdown",
   "metadata": {},
   "source": [
    "$\\omega_{eff} = \\sqrt{\\dfrac{\\pi g}{L}\\tanh{\\left(\\dfrac{\\pi h}{L}\\right)}}$"
   ]
  },
  {
   "cell_type": "markdown",
   "metadata": {},
   "source": [
    "$\\xi_{eff} = \\left(\\dfrac{1}{2h} \\right) \\sqrt{\\dfrac{\\nu_w}{2 \\omega_{eff}}} \\left(1 + \\dfrac{2h}{b} + SC \\right)$"
   ]
  },
  {
   "cell_type": "markdown",
   "metadata": {},
   "source": [
    "$c_{eff} = 2 \\xi_{eff} me_{eff} \\omega_{eff}$"
   ]
  },
  {
   "cell_type": "code",
   "execution_count": null,
   "metadata": {},
   "outputs": [],
   "source": []
  },
  {
   "cell_type": "code",
   "execution_count": null,
   "metadata": {},
   "outputs": [],
   "source": []
  }
 ],
 "metadata": {
  "kernelspec": {
   "display_name": "Python 3",
   "language": "python",
   "name": "python3"
  },
  "language_info": {
   "codemirror_mode": {
    "name": "ipython",
    "version": 3
   },
   "file_extension": ".py",
   "mimetype": "text/x-python",
   "name": "python",
   "nbconvert_exporter": "python",
   "pygments_lexer": "ipython3",
   "version": "3.9.1"
  }
 },
 "nbformat": 4,
 "nbformat_minor": 2
}
