{
 "cells": [
  {
   "cell_type": "markdown",
   "metadata": {
    "collapsed": true
   },
   "source": [
    "# CI9-STR-40: Design of Timber Structures"
   ]
  },
  {
   "cell_type": "markdown",
   "metadata": {},
   "source": [
    "## Timber beams: comparison of design criteria"
   ]
  },
  {
   "cell_type": "markdown",
   "metadata": {},
   "source": [
    "**Dr C Málaga-Chuquitaype ([email](mailto:c.malaga@imperial.ac.uk))**"
   ]
  },
  {
   "cell_type": "markdown",
   "metadata": {},
   "source": [
    "**Emerging Structural Technologies Research Group ([webpage](http://www.imperial.ac.uk/emerging-structural-technologies))**"
   ]
  },
  {
   "cell_type": "markdown",
   "metadata": {},
   "source": [
    "***"
   ]
  },
  {
   "cell_type": "markdown",
   "metadata": {},
   "source": [
    "Consider a simply-supported beam with uniformly distributed load $q$ and span $l$"
   ]
  },
  {
   "cell_type": "markdown",
   "metadata": {},
   "source": [
    "We start by assuming that the Elastic Young to Shear modulus ratio of wood is\n",
    "$E/G = 16$"
   ]
  },
  {
   "cell_type": "markdown",
   "metadata": {},
   "source": [
    "We will aso make some assumptions regarding the ratio of flexural to shear strength ratios:"
   ]
  },
  {
   "cell_type": "markdown",
   "metadata": {},
   "source": [
    "$\\mu = \\dfrac{f_{m,k}}{f_{v,k}} = \\dfrac{f_{m,d}}{f_{v,d}}$"
   ]
  },
  {
   "cell_type": "markdown",
   "metadata": {},
   "source": [
    "and the ratio between the elastic modulus and the characteristic flexural strenght:"
   ]
  },
  {
   "cell_type": "markdown",
   "metadata": {},
   "source": [
    "$\\omega = \\dfrac{E}{f_{m.k}}$"
   ]
  },
  {
   "cell_type": "markdown",
   "metadata": {},
   "source": [
    "* as a first approximation we will assume $\\mu = 7$ and $\\omega = 440$"
   ]
  },
  {
   "cell_type": "markdown",
   "metadata": {},
   "source": [
    "1) The BENDING STRENGTH design criteria requires:\n",
    "   "
   ]
  },
  {
   "cell_type": "markdown",
   "metadata": {},
   "source": [
    "$\\dfrac{M_{Ed}}{W_{el}} \\leq f_{m,d} \\longrightarrow 0.75 \\left(\\dfrac{q_{Ed}}{bf_{m,d}}\\right) \\left( \\dfrac{l}{h} \\right)^2 \\leq 1 $"
   ]
  },
  {
   "cell_type": "markdown",
   "metadata": {},
   "source": [
    "2) The SHEAR STRENGTH design criteria requires:"
   ]
  },
  {
   "cell_type": "markdown",
   "metadata": {},
   "source": [
    "$\\dfrac{3V_{Ed}}{2 b_{ef} h} \\leq f_{v,d} \\longrightarrow 0.75 \\mu \\left(\\dfrac{q_{Ed}}{0.67bf_{m,d}}\\right) \\left( \\dfrac{l}{h} \\right) \\leq 1 $"
   ]
  },
  {
   "cell_type": "markdown",
   "metadata": {},
   "source": [
    "3) The DEFLECTION limit criteria requires:"
   ]
  },
  {
   "cell_type": "markdown",
   "metadata": {},
   "source": [
    "$\\dfrac{204}{\\omega} \\left(\\dfrac{q_{Ed}}{bf_{m,d}}\\right) \\left( \\dfrac{5}{32} \\left(\\dfrac{l}{h} \\right)^3  + \\dfrac{12}{5} \\left( \\dfrac{l}{h}\\right)\\right)\\leq 1 $"
   ]
  },
  {
   "cell_type": "markdown",
   "metadata": {},
   "source": [
    "* This last expression assumes that $k_{mod} \\approx 7$, $\\gamma_m \\approx 1.255$, $f_{m,k} = \\dfrac{f_{m,d}}{0.56}$, $E = \\dfrac{\\omega f_{m,d}}{0.56}$, $k_{def} \\approx 0.7$, and $q \\approx \\dfrac{q_{E,d}}{1.4}$"
   ]
  },
  {
   "cell_type": "markdown",
   "metadata": {},
   "source": [
    "The three criteria described above can be multiplied by the same dimentionless factor $Z = \\dfrac{b f_{m,d}}{q_{Ed}}$. This allows the cancellation of the terms $q_{def}$, $b$, and $f_{m,d}$. The larger demand can now be compared."
   ]
  },
  {
   "cell_type": "markdown",
   "metadata": {},
   "source": [
    "Governing criteria:"
   ]
  },
  {
   "cell_type": "markdown",
   "metadata": {},
   "source": [
    "$ \\left\\{ \\begin{array}{l} \n",
    "0.75 \\left( \\dfrac{l}{h}\\right)^2 \\leq Z\\\\ \n",
    "1.12 \\mu \\left( \\dfrac{l}{h}\\right) \\leq Z\\\\ \n",
    "\\dfrac{204}{\\omega} \\left( \\dfrac{5}{32} \\left( \\dfrac{l}{h}\\right)^3 + \\dfrac{12}{5}\\left( \\dfrac{l}{h}\\right)\\right) \\leq Z\\\\ \n",
    "\\end{array} \\right. $"
   ]
  },
  {
   "cell_type": "code",
   "execution_count": 4,
   "metadata": {
    "collapsed": true
   },
   "outputs": [],
   "source": [
    "# Import the NumPy functions with namespace (nickname) np\n",
    "import numpy as np"
   ]
  },
  {
   "cell_type": "code",
   "execution_count": 5,
   "metadata": {
    "collapsed": true
   },
   "outputs": [],
   "source": [
    "#If using Python 2.7 you may wish to import division to avoid the floating point problem\n",
    "from __future__ import division"
   ]
  },
  {
   "cell_type": "code",
   "execution_count": 6,
   "metadata": {
    "collapsed": true
   },
   "outputs": [],
   "source": [
    "# Se-up to display plots inline\n",
    "%matplotlib inline"
   ]
  },
  {
   "cell_type": "code",
   "execution_count": 7,
   "metadata": {
    "collapsed": true
   },
   "outputs": [],
   "source": [
    "# Import the plotting functions\n",
    "import matplotlib.pyplot as plt"
   ]
  },
  {
   "cell_type": "code",
   "execution_count": 8,
   "metadata": {
    "collapsed": true
   },
   "outputs": [],
   "source": [
    "# Define the ratios of material properties\n",
    "mu = 7\n",
    "omega = 440"
   ]
  },
  {
   "cell_type": "code",
   "execution_count": 9,
   "metadata": {
    "collapsed": true
   },
   "outputs": [],
   "source": [
    "# Create an array/vector of 0-20 depth to span rations (l/h) with 100 samples\n",
    "lh = np.linspace(0.001,20,100)"
   ]
  },
  {
   "cell_type": "code",
   "execution_count": 10,
   "metadata": {
    "collapsed": true
   },
   "outputs": [],
   "source": [
    "# Define the design limits\n",
    "M = 0.75*lh**2\n",
    "V = 1.12*mu*lh\n",
    "D = 204/omega*((5/32*(lh**3))+(12/5*lh))"
   ]
  },
  {
   "cell_type": "code",
   "execution_count": 11,
   "metadata": {},
   "outputs": [
    {
     "data": {
      "image/png": "[encoded data removed]",
      "text/plain": [
       "<matplotlib.figure.Figure at 0x111aff3c8>"
      ]
     },
     "metadata": {},
     "output_type": "display_data"
    }
   ],
   "source": [
    "# Set figure parameters\n",
    "fig = plt.figure(figsize=(8, 4))\n",
    "ax = plt.gca()\n",
    "plt.subplots_adjust(bottom=0.12, left=0.17, top=0.96, right=0.96)\n",
    "\n",
    "plt.setp(ax.get_ymajorticklabels(),family='arial',fontsize=14)\n",
    "plt.setp(ax.get_xmajorticklabels(),family='arial',fontsize=14)\n",
    "    \n",
    "ax.spines['right'].set_color('none')\n",
    "ax.spines['top'].set_color('none')\n",
    "ax.xaxis.set_ticks_position('bottom')\n",
    "ax.yaxis.set_ticks_position('left')\n",
    "ax.grid(True,linestyle=':',color='0.75')\n",
    "ax.set_axisbelow(True)\n",
    "\n",
    "#Original signal\n",
    "ax.set_xlabel('span to depth ratio $l/h$', family='arial', fontsize=14,weight='bold',labelpad=5)\n",
    "ax.set_ylabel('$Z = b f_{m,d}/q_{Ed}$', family='arial', fontsize=14,weight='bold',labelpad=10)\n",
    "    \n",
    "ax.plot(lh, M, linewidth=2,linestyle='-',label='Bending')\n",
    "ax.plot(lh, V, linewidth=2,linestyle='-',label='Shear')\n",
    "ax.plot(lh, D, linewidth=2,color='green',linestyle='-',label='Deflection')\n",
    "ax.set_xlim(0,20)\n",
    "ax.set_ylim(0,150)\n",
    "\n",
    "leg = plt.legend(loc='upper right', fancybox=True)\n",
    "ltext  = leg.get_texts()\n",
    "plt.setp(ltext,family='arial',fontsize=12)\n",
    "\n",
    "    \n",
    "#Adjustments\n",
    "plt.tight_layout(pad=0.5, w_pad=5.0)   "
   ]
  },
  {
   "cell_type": "code",
   "execution_count": null,
   "metadata": {
    "collapsed": true
   },
   "outputs": [],
   "source": []
  }
 ],
 "metadata": {
  "kernelspec": {
   "display_name": "Python [default]",
   "language": "python",
   "name": "python3"
  },
  "language_info": {
   "codemirror_mode": {
    "name": "ipython",
    "version": 3
   },
   "file_extension": ".py",
   "mimetype": "text/x-python",
   "name": "python",
   "nbconvert_exporter": "python",
   "pygments_lexer": "ipython3",
   "version": "3.5.3"
  }
 },
 "nbformat": 4,
 "nbformat_minor": 2
}
