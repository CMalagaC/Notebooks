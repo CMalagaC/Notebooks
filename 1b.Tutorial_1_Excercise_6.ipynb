{
 "cells": [
  {
   "cell_type": "markdown",
   "metadata": {},
   "source": [
    "## <center> Structural Dynamics</center>"
   ]
  },
  {
   "cell_type": "markdown",
   "metadata": {},
   "source": [
    "# <center> Tutorial 1 - Excercise 6</center>"
   ]
  },
  {
   "cell_type": "markdown",
   "metadata": {},
   "source": [
    "Dr C Málaga-Chuquitaype ([email](mailto:c.malaga@imperial.ac.uk)) -  [Emerging Structural Technologies Research Group](http://www.imperial.ac.uk/emerging-structural-technologies)"
   ]
  },
  {
   "cell_type": "markdown",
   "metadata": {},
   "source": [
    "***"
   ]
  },
  {
   "cell_type": "markdown",
   "metadata": {},
   "source": [
    "<font color='red'> Please note that the interactive components of this Notebook will slowly or may not run at all if the online tool is used. If you prefer to run it locally, you should install Jupyter by following the instructions in: http://jupyter.org/install</font>"
   ]
  },
  {
   "cell_type": "markdown",
   "metadata": {},
   "source": [
    "Find the FT of $x(t) = e^{-at}u(t)$, where:"
   ]
  },
  {
   "cell_type": "markdown",
   "metadata": {},
   "source": [
    "$u(t)= \\left\\{\\begin{array}{l l}\n",
    "0 & t < 0 \\\\\n",
    "1 & t > 0 \\\\\n",
    "\\end{array}\n",
    "\\right.$\n",
    " (this is what is known as a unit step function)"
   ]
  },
  {
   "cell_type": "markdown",
   "metadata": {},
   "source": [
    "Therefore:"
   ]
  },
  {
   "cell_type": "markdown",
   "metadata": {},
   "source": [
    "$X(i\\omega) = \\int_0^{\\infty} e^{-at}e^{-i \\omega t} dt$"
   ]
  },
  {
   "cell_type": "markdown",
   "metadata": {},
   "source": [
    "$X(i\\omega) = \\left. -\\dfrac{1}{a+i\\omega} e^{-(a+i \\omega t}) \\right|_0^{\\infty}$"
   ]
  },
  {
   "cell_type": "markdown",
   "metadata": {},
   "source": [
    "$X(i\\omega) = \\dfrac{1}{a+i\\omega}$,  defined for $a>0$"
   ]
  },
  {
   "cell_type": "markdown",
   "metadata": {},
   "source": [
    "Whose magnitude is:"
   ]
  },
  {
   "cell_type": "markdown",
   "metadata": {},
   "source": [
    "$\\left| X(i\\omega) \\right| = \\dfrac{1}{\\sqrt{a^2+\\omega^2}}$"
   ]
  },
  {
   "cell_type": "markdown",
   "metadata": {},
   "source": [
    "And phase:"
   ]
  },
  {
   "cell_type": "markdown",
   "metadata": {},
   "source": [
    "$\\phi = \\tan^{-1} \\left( \\dfrac{\\omega}{a}\\right)$"
   ]
  },
  {
   "cell_type": "code",
   "execution_count": 1,
   "metadata": {},
   "outputs": [],
   "source": [
    "# Import the NumPy functions with namespace (nickname) np\n",
    "import numpy as np"
   ]
  },
  {
   "cell_type": "code",
   "execution_count": 2,
   "metadata": {},
   "outputs": [],
   "source": [
    "# Se-up to display plots inline\n",
    "%matplotlib inline"
   ]
  },
  {
   "cell_type": "code",
   "execution_count": 3,
   "metadata": {},
   "outputs": [],
   "source": [
    "# Import the plotting functions\n",
    "import matplotlib.pyplot as plt"
   ]
  },
  {
   "cell_type": "code",
   "execution_count": 4,
   "metadata": {},
   "outputs": [],
   "source": [
    "# Import the IPython widgets\n",
    "from ipywidgets.widgets import interact, interactive, HBox, Label\n",
    "from ipywidgets import widgets\n",
    "from IPython.display import display\n",
    "from scipy import signal"
   ]
  },
  {
   "cell_type": "code",
   "execution_count": 5,
   "metadata": {},
   "outputs": [],
   "source": [
    "# Create a time array/vector of 0-25s with 5001 samples\n",
    "w = np.linspace(-25,25,4000)\n"
   ]
  },
  {
   "cell_type": "code",
   "execution_count": 6,
   "metadata": {},
   "outputs": [],
   "source": [
    "def plot_envelope(a=1):\n",
    "#define the period of the SDOF (these will not change) [in seconds]\n",
    "    M = 1/(np.sqrt(a**2+w**2))\n",
    "    phi = - np.arctan(w/a)\n",
    "     \n",
    "    fig, (ax1, ax2) = plt.subplots(2,1,figsize = (8,8))\n",
    "\n",
    "    plt.subplots_adjust(bottom=0.12,left=0.17,top=0.96,right=0.96)\n",
    "    plt.setp(ax1.get_ymajorticklabels(),family='arial',fontsize=14)\n",
    "    plt.setp(ax2.get_xmajorticklabels(),family='arial',fontsize=14)\n",
    "    \n",
    "    ax1.spines['right'].set_color('none')\n",
    "    ax1.spines['top'].set_color('none')\n",
    "    ax1.xaxis.set_ticks_position('bottom')\n",
    "    ax1.yaxis.set_ticks_position('left')\n",
    "    ax1.grid(True,linestyle=':',color='0.75')\n",
    "    ax1.set_axisbelow(True)\n",
    "    \n",
    "    ax2.spines['right'].set_color('none')\n",
    "    ax2.spines['top'].set_color('none')\n",
    "    ax2.xaxis.set_ticks_position('bottom')\n",
    "    ax2.yaxis.set_ticks_position('left')\n",
    "    ax2.grid(True,linestyle=':',color='0.75')\n",
    "    ax2.set_axisbelow(True)\n",
    "    \n",
    "    #Envelope Sample\n",
    "    ax1.set_xlabel('$\\omega$', family='arial', fontsize=14,weight='bold',labelpad=5)\n",
    "    ax1.set_ylabel('$|X(i \\omega)|$', family='arial', fontsize=14,weight='bold',labelpad=10)\n",
    "    \n",
    "    #Original Function\n",
    "    ax2.set_xlabel('$\\omega$', family='arial', fontsize=14,weight='bold',labelpad=5)\n",
    "    ax2.set_ylabel('$\\phi$', family='arial', fontsize=14,weight='bold',labelpad=10)\n",
    "    \n",
    "    ax1.plot(w,  M, linewidth=2,linestyle='-',label='Magnitude')\n",
    "    ax1.set_xlim(-25,25)\n",
    "    \n",
    "    ax2.plot(w, phi, linewidth=2,linestyle='-',label='Phase')\n",
    "    ax2.set_xlim(-25,25)\n",
    "    \n",
    "    #Adjustments\n",
    "    plt.tight_layout(pad=0.5, w_pad=5.0)    \n"
   ]
  },
  {
   "cell_type": "markdown",
   "metadata": {},
   "source": [
    "Now, let's call the interact function, set-up the ranges for each parameter and define the sliders."
   ]
  },
  {
   "cell_type": "code",
   "execution_count": 7,
   "metadata": {
    "scrolled": false
   },
   "outputs": [
    {
     "data": {
      "application/vnd.jupyter.widget-view+json": {
       "model_id": "75087093f6fb493e9e3fe154229beaad",
       "version_major": 2,
       "version_minor": 0
      },
      "text/plain": [
       "interactive(children=(FloatSlider(value=1.0, description='a', max=10.0, min=0.1, step=1.0), Output()), _dom_cl…"
      ]
     },
     "metadata": {},
     "output_type": "display_data"
    },
    {
     "data": {
      "text/plain": [
       "<function __main__.plot_envelope(a=1)>"
      ]
     },
     "execution_count": 7,
     "metadata": {},
     "output_type": "execute_result"
    }
   ],
   "source": [
    "#Call the slider interaction, the phi angles are defined as a function of pi/2\n",
    "interact(plot_envelope, a = (0.1,10,1))\n",
    "                    "
   ]
  },
  {
   "cell_type": "code",
   "execution_count": null,
   "metadata": {},
   "outputs": [],
   "source": []
  },
  {
   "cell_type": "code",
   "execution_count": null,
   "metadata": {},
   "outputs": [],
   "source": []
  },
  {
   "cell_type": "code",
   "execution_count": null,
   "metadata": {},
   "outputs": [],
   "source": []
  }
 ],
 "metadata": {
  "kernelspec": {
   "display_name": "Python 3 (ipykernel)",
   "language": "python",
   "name": "python3"
  },
  "language_info": {
   "codemirror_mode": {
    "name": "ipython",
    "version": 3
   },
   "file_extension": ".py",
   "mimetype": "text/x-python",
   "name": "python",
   "nbconvert_exporter": "python",
   "pygments_lexer": "ipython3",
   "version": "3.10.6"
  }
 },
 "nbformat": 4,
 "nbformat_minor": 2
}
