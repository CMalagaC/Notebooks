{
  "cells": [
    {
      "metadata": {},
      "cell_type": "markdown",
      "source": "# <center>CI9-STR-08: Structural Dynamics</center>"
    },
    {
      "metadata": {},
      "cell_type": "markdown",
      "source": "## <center>Damped free vibrations of a Single Degre-of-Freedom system</center>"
    },
    {
      "metadata": {},
      "cell_type": "markdown",
      "source": "<center>**Dr C Málaga-Chuquitaype ([email](mailto:c.malaga@imperial.ac.uk), [webpage](http://www.imperial.ac.uk/emerging-structural-technologies))**</center>"
    },
    {
      "metadata": {},
      "cell_type": "markdown",
      "source": "***"
    },
    {
      "metadata": {},
      "cell_type": "markdown",
      "source": "The Equation of Motion of the System is:\n"
    },
    {
      "metadata": {},
      "cell_type": "markdown",
      "source": "$m \\ddot{u}(t) + c \\dot{u}(t) + ku(t) = 0$"
    },
    {
      "metadata": {},
      "cell_type": "markdown",
      "source": "Or in mass normalized terms:"
    },
    {
      "metadata": {},
      "cell_type": "markdown",
      "source": "$\\ddot{u}(t) + 2 \\xi \\omega_n \\dot{u}(t) + \\omega_n^2 u(t)$"
    },
    {
      "metadata": {},
      "cell_type": "markdown",
      "source": "And its solution is:"
    },
    {
      "metadata": {},
      "cell_type": "markdown",
      "source": "$u(t) = e^{-\\xi \\omega_nt} \\left( A_1 \\cos{\\omega_dt} + A_2 \\sin{\\omega_dt} \\right)$"
    },
    {
      "metadata": {},
      "cell_type": "markdown",
      "source": "$A_1 = u_0$"
    },
    {
      "metadata": {},
      "cell_type": "markdown",
      "source": "$A_2 = \\dfrac{v_0 + \\xi \\omega_n u_0}{\\omega_d}$"
    },
    {
      "metadata": {},
      "cell_type": "markdown",
      "source": "<font color='red'> PLEASE NOTE  that the interactive portions of this notebook will run slowly or may not run in the online notebook viewer. You may need to run it locally. If you wish to install Jupyter in your own computer you can find detailed instructions here: http://jupyter.org/install</font>"
    },
    {
      "metadata": {
        "trusted": true
      },
      "cell_type": "code",
      "source": "# Import the NumPy functions with namespace (nickname) np\nimport numpy as np",
      "execution_count": 1,
      "outputs": []
    },
    {
      "metadata": {
        "trusted": true
      },
      "cell_type": "code",
      "source": "# Se-up to display plots inline\n%matplotlib inline",
      "execution_count": 2,
      "outputs": [
        {
          "output_type": "stream",
          "text": "/home/nbuser/anaconda3_420/lib/python3.5/site-packages/matplotlib/font_manager.py:281: UserWarning: Matplotlib is building the font cache using fc-list. This may take a moment.\n  'Matplotlib is building the font cache using fc-list. '\n",
          "name": "stderr"
        }
      ]
    },
    {
      "metadata": {
        "trusted": true
      },
      "cell_type": "code",
      "source": "# Import the plotting functions\nimport matplotlib.pyplot as plt",
      "execution_count": 3,
      "outputs": []
    },
    {
      "metadata": {
        "trusted": true
      },
      "cell_type": "code",
      "source": "# Import the IPython widgets\nfrom ipywidgets.widgets import interact, interactive, HBox, Label\nfrom ipywidgets import widgets\nfrom IPython.display import display",
      "execution_count": 4,
      "outputs": []
    },
    {
      "metadata": {
        "trusted": true
      },
      "cell_type": "code",
      "source": "# Create a time array/vector of 0-25s with 5001 samples\nt = np.linspace(0,25, 5001)",
      "execution_count": 5,
      "outputs": []
    },
    {
      "metadata": {
        "trusted": true
      },
      "cell_type": "code",
      "source": "def plot_SDOF(u0=0.04, v0=0.4, xi=0.05):\n#define the period of the SDOF (these will not change) [in seconds]\n    T=1.0\n#Based on this we get its natural circular frequency    [in rad/s] \n    w=2*np.pi/T\n#And the damped circular frequency    [in rad/s] \n    wd=w*np.sqrt(1-xi**2)\n    \n#the response of the system from the initial conditions\n    A1=u0\n    A2=(v0+xi*w*u0)/wd\n\n    response = np.exp(-xi*w*t)*(A1*np.cos(wd*t) + A2*np.sin(wd*t)) \n\n#we use the FFT algorithm\n\n    freq,amp = mod_FFT(response,t,False)\n\n# Set figure parameters\n    fig, (ax1,ax2) = plt.subplots(1,2, figsize = (12,4))\n\n    plt.subplots_adjust(bottom=0.12,left=0.17,top=0.96,right=0.96)\n    plt.setp(ax1.get_ymajorticklabels(),family='arial',fontsize=14)\n    plt.setp(ax1.get_xmajorticklabels(),family='arial',fontsize=14)\n    \n    ax1.spines['right'].set_color('none')\n    ax1.spines['top'].set_color('none')\n    ax1.xaxis.set_ticks_position('bottom')\n    ax1.yaxis.set_ticks_position('left')\n    ax1.grid(True,linestyle=':',color='0.75')\n    ax1.set_axisbelow(True)\n    \n    ax2.spines['right'].set_color('none')\n    ax2.spines['top'].set_color('none')\n    ax2.xaxis.set_ticks_position('bottom')\n    ax2.yaxis.set_ticks_position('left')\n    ax2.grid(True,linestyle=':',color='0.75')\n    ax2.set_axisbelow(True)\n\n    #Response\n    ax1.set_xlabel('Time [s]', family='arial', fontsize=14,weight='bold',labelpad=5)\n    ax1.set_ylabel('Response Amplitude [m]', family='arial', fontsize=14,weight='bold',labelpad=10)\n    \n    ax1.plot(t, response, linewidth=2,linestyle='-',label='Response')\n    ax1.set_xlim(0,5)\n    \n    #FFT\n    ax2.set_xlabel('Frequency [Hz]', fontsize=14,weight='bold',labelpad=5)\n    ax2.set_ylabel('Fourier Amplitude', fontsize=14,weight='bold',labelpad=5)\n    \n    ax2.plot(freq, amp, linewidth=2, linestyle='-', label = 'FFT')\n    ax2.set_xlim(-5,20)\n    \n    #Adjustments\n    plt.tight_layout(pad=0.5, w_pad=5.0)    ",
      "execution_count": 6,
      "outputs": []
    },
    {
      "metadata": {},
      "cell_type": "markdown",
      "source": "The function below implements the FFT algorithm. Although not strictly necesary, it also implements additional steps such as zero-centering, selecting the Real part, etc. "
    },
    {
      "metadata": {
        "trusted": true
      },
      "cell_type": "code",
      "source": "def mod_FFT(data,time,plotflag):\n    #Inputs:\n    #time = time array corresponding to the data\n    #data = the response data arrray\n    #pltoflag = plots if nonzero\n    #Outputs:\n    #fft_freq = array of the frequencies used in the FFT\n    #fft_amp = array of the amplitude of the FFT at each frequency\n    \n    from scipy.fftpack import fft\n    \n    #any DC offset\n    offset = np.mean(data)\n    \n    #get sampling time\n    sample_time = time[1]-time[0]\n    \n    #get length\n    n = len(data)\n    \n    #calculate the FFT removing the offset and using a Hanning Window\n    fft_amp = fft((data-offset)*np.hanning(len(data)))\n    \n    #define the frequency range of the output\n    fft_freq = np.linspace(0.0, 1.0 / (2.0*sample_time), int(np.ceil(n/2)))\n    \n    #get the fft part of interest\n    fft_amp = 2.0/n*np.abs(fft_amp[0:int(np.ceil(n/2))])\n    \n    #if plotflag is nonzero (True), plot the FFT before returning the mag and phase\n    if plotflag:\n        fig=plt.figure(figsize=(6,4))\n        ax=plt.gca()\n        plt.subplots_adjust(bottom=0.17,left=0.17,top=0.96,right=0.96)\n        plt.setp(ax.get_ymajorticklabels(), fontsize=14)\n        plt.setp(ax.get_xmajorticklabels(), fontsize=14)\n        ax.spines['right'].set_color('none')\n        ax.spines['top'].set_color('none')\n        ax.xaxis.set_ticks_position('bottom')\n        ax.yaxis.set_ticks_position('left')\n        ax.grid(True, linestyle=':', color='0.75')\n        ax.set_axisbelow(True)\n        \n        plt.xlabel('Frequency [Hz]', fontsize=14,labelpad=8)\n        plt.ylabel('Fourier Amplitude', fontsize=14,labelpad=10)\n        \n        plt.plot(fft_freq,fft_amp,linewidth=2,linestyle='-')\n        \n        #Adjustements\n        plt.tight_layout(pad=0.5)\n        plt.show()\n        \n    return fft_freq, fft_amp  ",
      "execution_count": 7,
      "outputs": []
    },
    {
      "metadata": {},
      "cell_type": "markdown",
      "source": "Now, let's call the interact function, set-up the ranges for each parameter and define the sliders."
    },
    {
      "metadata": {
        "scrolled": false,
        "trusted": true
      },
      "cell_type": "code",
      "source": "#Call the slider interaction, the phi angles are defined as a function of pi/2\ninteract(plot_SDOF, u0 = (-0.1,0.1,0.05),\n         v0 = (-1,1,0.05),\n         xi = (0,0.5,0.05))\n                    ",
      "execution_count": 8,
      "outputs": [
        {
          "output_type": "display_data",
          "data": {
            "application/vnd.jupyter.widget-view+json": {
              "model_id": "14abe6b3b2c04e6f867c68dd0131e3f1",
              "version_minor": 0,
              "version_major": 2
            },
            "text/plain": "interactive(children=(FloatSlider(value=0.04, description='u0', max=0.1, min=-0.1, step=0.05), FloatSlider(val…"
          },
          "metadata": {}
        },
        {
          "output_type": "execute_result",
          "execution_count": 8,
          "data": {
            "text/plain": "<function __main__.plot_SDOF>"
          },
          "metadata": {}
        }
      ]
    },
    {
      "metadata": {
        "collapsed": true,
        "trusted": false
      },
      "cell_type": "code",
      "source": "",
      "execution_count": null,
      "outputs": []
    },
    {
      "metadata": {
        "collapsed": true,
        "trusted": false
      },
      "cell_type": "code",
      "source": "",
      "execution_count": null,
      "outputs": []
    }
  ],
  "metadata": {
    "kernelspec": {
      "name": "python3",
      "display_name": "Python 3",
      "language": "python"
    },
    "language_info": {
      "mimetype": "text/x-python",
      "nbconvert_exporter": "python",
      "name": "python",
      "pygments_lexer": "ipython3",
      "version": "3.5.4",
      "file_extension": ".py",
      "codemirror_mode": {
        "version": 3,
        "name": "ipython"
      }
    }
  },
  "nbformat": 4,
  "nbformat_minor": 2
}