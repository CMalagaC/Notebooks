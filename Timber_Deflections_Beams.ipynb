{
 "cells": [
  {
   "cell_type": "markdown",
   "metadata": {},
   "source": [
    "# <center> CI9-STR-40: Design of Timber Structures </center>"
   ]
  },
  {
   "cell_type": "markdown",
   "metadata": {
    "collapsed": true
   },
   "source": [
    "## <center> Beam Deflections: the importance of shear deformations </center>"
   ]
  },
  {
   "cell_type": "markdown",
   "metadata": {},
   "source": [
    "<center> **Dr C Málaga-Chuquitaype ([email](mailto:c.malaga@imperial.ac.uk))**</center>"
   ]
  },
  {
   "cell_type": "markdown",
   "metadata": {},
   "source": [
    "<center> **Emerging Structural Technologies Research Group ([webpage](http://www.imperial.ac.uk/emerging-structural-technologies))** </center>"
   ]
  },
  {
   "cell_type": "markdown",
   "metadata": {},
   "source": [
    "***"
   ]
  },
  {
   "cell_type": "markdown",
   "metadata": {},
   "source": [
    "The Shear modulus $G$ is to the distortion $\\gamma$ as the Elastic modulus $E$ is to the unit deformation (strain) $\\epsilon$:\n"
   ]
  },
  {
   "cell_type": "markdown",
   "metadata": {},
   "source": [
    "$\\tau = G \\gamma$"
   ]
  },
  {
   "cell_type": "markdown",
   "metadata": {},
   "source": [
    "For a linear-elastic material with isotropic properties \n"
   ]
  },
  {
   "cell_type": "markdown",
   "metadata": {},
   "source": [
    "$G = \\dfrac{E}{2 (1 + \\nu)}$"
   ]
  },
  {
   "cell_type": "markdown",
   "metadata": {},
   "source": [
    "Remember that for a simply-supported beam with uniformly distributed load $q$ and span $l$ the mid-span deflection due to flexural actions is (unit force method):"
   ]
  },
  {
   "cell_type": "markdown",
   "metadata": {},
   "source": [
    "$\\delta_m =  \\int_{x=0}^{x=L}{ \\dfrac{Mm}{EI}}{dx} = 2 \\int_{x=0}^{x=L/2}{\\dfrac{(qLx-qx^2)x}{4EI}}dx= \\dfrac{5ql^4}{384EI}$"
   ]
  },
  {
   "cell_type": "markdown",
   "metadata": {},
   "source": [
    "Similarly, the corresponding mid-span deflection due to shear deformations is (unit forces):"
   ]
  },
  {
   "cell_type": "markdown",
   "metadata": {},
   "source": [
    "$\\delta_v =  \\int_{x=0}^{x=L}{ \\dfrac{Vv}{GA_v}dx} = 2 \\int_{x=0}^{x=L/2}{\\dfrac{(qL/2-qx)x}{4GA_v}}dx= \\dfrac{ql^2}{8GA_v}$"
   ]
  },
  {
   "cell_type": "markdown",
   "metadata": {},
   "source": [
    "Therefore, the total deflection is:"
   ]
  },
  {
   "cell_type": "markdown",
   "metadata": {},
   "source": [
    "$\\delta_{tot} = \\delta_m + \\delta_v = \\dfrac{5ql^4}{384EI} + \\dfrac{ql^2}{8GA_v}$"
   ]
  },
  {
   "cell_type": "markdown",
   "metadata": {},
   "source": [
    "For a rectangular section of width $b$ and depth $h$, asuming a shear area of $\\dfrac{5bh}{6}$:\n"
   ]
  },
  {
   "cell_type": "markdown",
   "metadata": {},
   "source": [
    "$\\delta_{tot} = \\delta_m + \\delta_v = \\dfrac{5ql^4}{32Ebh^3} + \\dfrac{3ql^2}{20Gbh}$"
   ]
  },
  {
   "cell_type": "markdown",
   "metadata": {},
   "source": [
    "If we differenciate the shear and flexural contributions to the total mid-span displacement and calcualte their relative values:"
   ]
  },
  {
   "cell_type": "markdown",
   "metadata": {},
   "source": [
    "$\\dfrac{\\delta_v}{\\delta_m} = 0.96 \\dfrac{E}{G} \\left( \\dfrac{h}{l}\\right)^2$"
   ]
  },
  {
   "cell_type": "markdown",
   "metadata": {},
   "source": [
    "And for a $E/G = 16$ for massive wood that relationship is:"
   ]
  },
  {
   "cell_type": "markdown",
   "metadata": {},
   "source": [
    "$\\dfrac{\\delta_v}{\\delta_m} \\approx 15.36 \\left(\\dfrac{h}{l} \\right)^2$"
   ]
  },
  {
   "cell_type": "code",
   "execution_count": 7,
   "metadata": {
    "collapsed": true
   },
   "outputs": [],
   "source": [
    "# Import the NumPy functions with namespace (nickname) np\n",
    "import numpy as np"
   ]
  },
  {
   "cell_type": "code",
   "execution_count": 8,
   "metadata": {
    "collapsed": true
   },
   "outputs": [],
   "source": [
    "# Se-up to display plots inline\n",
    "%matplotlib inline"
   ]
  },
  {
   "cell_type": "code",
   "execution_count": 9,
   "metadata": {
    "collapsed": true
   },
   "outputs": [],
   "source": [
    "# Import the plotting functions\n",
    "import matplotlib.pyplot as plt"
   ]
  },
  {
   "cell_type": "code",
   "execution_count": 10,
   "metadata": {
    "collapsed": true
   },
   "outputs": [],
   "source": [
    "# Create an array/vector of 0-25 depth to span rations (l/h) with 100 samples\n",
    "lh = np.linspace(0.001,25,100)"
   ]
  },
  {
   "cell_type": "code",
   "execution_count": 11,
   "metadata": {
    "collapsed": true
   },
   "outputs": [],
   "source": [
    "# Define the shear versus flexural deflection ratio\n",
    "y = (15.4*(1/lh)**2)*100 #============================>For steel will be 2"
   ]
  },
  {
   "cell_type": "code",
   "execution_count": 12,
   "metadata": {},
   "outputs": [
    {
     "data": {
      "image/png": "[encoded data removed]",
      "text/plain": [
       "<matplotlib.figure.Figure at 0x1126adbe0>"
      ]
     },
     "metadata": {},
     "output_type": "display_data"
    }
   ],
   "source": [
    "# Set figure parameters\n",
    "fig = plt.figure(figsize=(8, 4))\n",
    "ax = plt.gca()\n",
    "plt.subplots_adjust(bottom=0.12, left=0.17, top=0.96, right=0.96)\n",
    "\n",
    "plt.setp(ax.get_ymajorticklabels(),family='arial',fontsize=14)\n",
    "plt.setp(ax.get_xmajorticklabels(),family='arial',fontsize=14)\n",
    "    \n",
    "ax.spines['right'].set_color('none')\n",
    "ax.spines['top'].set_color('none')\n",
    "ax.xaxis.set_ticks_position('bottom')\n",
    "ax.yaxis.set_ticks_position('left')\n",
    "ax.grid(True,linestyle=':',color='0.75')\n",
    "ax.set_axisbelow(True)\n",
    "\n",
    "#Plot labels\n",
    "ax.set_xlabel('span to depth ratio $l/h$', family='arial', fontsize=14,weight='bold',labelpad=5)\n",
    "ax.set_ylabel('$\\delta_v / \\delta_m$ [%]', family='arial', fontsize=14,weight='bold',labelpad=10)\n",
    "    \n",
    "ax.plot(lh, y, linewidth=2,linestyle='-',label='Timber') \n",
    "#============================>For steel will be?\n",
    "ax.set_xlim(0,25)\n",
    "ax.set_ylim(0,100)\n",
    "\n",
    "#Define the shear versus flexural deflection ratio for steel\n",
    "#\n",
    "#\n",
    "#leg = plt.legend(loc='upper right', fancybox=True)\n",
    "#ltext  = leg.get_texts()\n",
    "#plt.setp(ltext,family='arial',fontsize=12)\n",
    "\n",
    "    \n",
    "#Adjustments\n",
    "plt.tight_layout(pad=0.5, w_pad=5.0)   "
   ]
  },
  {
   "cell_type": "code",
   "execution_count": null,
   "metadata": {
    "collapsed": true
   },
   "outputs": [],
   "source": []
  },
  {
   "cell_type": "code",
   "execution_count": null,
   "metadata": {
    "collapsed": true
   },
   "outputs": [],
   "source": []
  }
 ],
 "metadata": {
  "kernelspec": {
   "display_name": "Python [default]",
   "language": "python",
   "name": "python3"
  },
  "language_info": {
   "codemirror_mode": {
    "name": "ipython",
    "version": 3
   },
   "file_extension": ".py",
   "mimetype": "text/x-python",
   "name": "python",
   "nbconvert_exporter": "python",
   "pygments_lexer": "ipython3",
   "version": "3.5.3"
  }
 },
 "nbformat": 4,
 "nbformat_minor": 2
}
